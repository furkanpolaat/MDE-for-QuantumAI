{
 "cells": [
  {
   "cell_type": "code",
   "execution_count": 1,
   "id": "6679aa02-20aa-4686-acd7-320874ddd510",
   "metadata": {},
   "outputs": [
    {
     "name": "stdout",
     "output_type": "stream",
     "text": [
      "Requirement already satisfied: pandas in /Users/furkanpolat/anaconda3/envs/EXACTEQUVALNCE/lib/python3.10/site-packages (2.2.3)\n",
      "Collecting googlemaps\n",
      "  Downloading googlemaps-4.10.0.tar.gz (33 kB)\n",
      "  Preparing metadata (setup.py) ... \u001b[?25ldone\n",
      "\u001b[?25hRequirement already satisfied: numpy>=1.22.4 in /Users/furkanpolat/anaconda3/envs/EXACTEQUVALNCE/lib/python3.10/site-packages (from pandas) (2.1.2)\n",
      "Requirement already satisfied: python-dateutil>=2.8.2 in /Users/furkanpolat/anaconda3/envs/EXACTEQUVALNCE/lib/python3.10/site-packages (from pandas) (2.9.0.post0)\n",
      "Requirement already satisfied: pytz>=2020.1 in /Users/furkanpolat/anaconda3/envs/EXACTEQUVALNCE/lib/python3.10/site-packages (from pandas) (2024.1)\n",
      "Requirement already satisfied: tzdata>=2022.7 in /Users/furkanpolat/anaconda3/envs/EXACTEQUVALNCE/lib/python3.10/site-packages (from pandas) (2024.2)\n",
      "Requirement already satisfied: requests<3.0,>=2.20.0 in /Users/furkanpolat/anaconda3/envs/EXACTEQUVALNCE/lib/python3.10/site-packages (from googlemaps) (2.32.3)\n",
      "Requirement already satisfied: six>=1.5 in /Users/furkanpolat/anaconda3/envs/EXACTEQUVALNCE/lib/python3.10/site-packages (from python-dateutil>=2.8.2->pandas) (1.16.0)\n",
      "Requirement already satisfied: charset-normalizer<4,>=2 in /Users/furkanpolat/anaconda3/envs/EXACTEQUVALNCE/lib/python3.10/site-packages (from requests<3.0,>=2.20.0->googlemaps) (3.3.2)\n",
      "Requirement already satisfied: idna<4,>=2.5 in /Users/furkanpolat/anaconda3/envs/EXACTEQUVALNCE/lib/python3.10/site-packages (from requests<3.0,>=2.20.0->googlemaps) (3.7)\n",
      "Requirement already satisfied: urllib3<3,>=1.21.1 in /Users/furkanpolat/anaconda3/envs/EXACTEQUVALNCE/lib/python3.10/site-packages (from requests<3.0,>=2.20.0->googlemaps) (2.2.2)\n",
      "Requirement already satisfied: certifi>=2017.4.17 in /Users/furkanpolat/anaconda3/envs/EXACTEQUVALNCE/lib/python3.10/site-packages (from requests<3.0,>=2.20.0->googlemaps) (2024.7.4)\n",
      "Building wheels for collected packages: googlemaps\n",
      "  Building wheel for googlemaps (setup.py) ... \u001b[?25ldone\n",
      "\u001b[?25h  Created wheel for googlemaps: filename=googlemaps-4.10.0-py3-none-any.whl size=40712 sha256=c290452cf97989ad49f67c8d6e9010660fac0b5629bb876da6cd6fd25ffac2ce\n",
      "  Stored in directory: /Users/furkanpolat/Library/Caches/pip/wheels/17/f8/79/999d5d37118fd35d7219ef57933eb9d09886c4c4503a800f84\n",
      "Successfully built googlemaps\n",
      "Installing collected packages: googlemaps\n",
      "Successfully installed googlemaps-4.10.0\n",
      "Note: you may need to restart the kernel to use updated packages.\n"
     ]
    }
   ],
   "source": [
    "pip install pandas googlemaps\n"
   ]
  },
  {
   "cell_type": "code",
   "execution_count": 1,
   "id": "301f1ce4-b8e0-4de7-b8b1-80b09765d1ed",
   "metadata": {},
   "outputs": [
    {
     "name": "stdout",
     "output_type": "stream",
     "text": [
      "Converted coordinates saved to converted_coordinates_epsg3857.csv\n"
     ]
    }
   ],
   "source": [
    "import pandas as pd\n",
    "import pyproj\n",
    "\n",
    "# Load your CSV file (replace with your actual file path)\n",
    "file_path = 'fietsenstalling.csv'\n",
    "containers_df = pd.read_csv(file_path)\n",
    "\n",
    "# Initialize the transformer (from EPSG:3857 to EPSG:4326 for lat/long)\n",
    "transformer = pyproj.Transformer.from_crs(\"EPSG:3857\", \"EPSG:4326\", always_xy=True)\n",
    "\n",
    "# Convert the X and Y coordinates to latitude and longitude\n",
    "def convert_coordinates(x, y):\n",
    "    lon, lat = transformer.transform(x, y)\n",
    "    return lat, lon\n",
    "\n",
    "# Create new columns for Latitude and Longitude\n",
    "containers_df['Latitude'] = None\n",
    "containers_df['Longitude'] = None\n",
    "\n",
    "# Apply the conversion to all rows\n",
    "for i in range(len(containers_df)):\n",
    "    x = containers_df.loc[i, 'X']\n",
    "    y = containers_df.loc[i, 'Y']\n",
    "    lat, lon = convert_coordinates(x, y)\n",
    "    containers_df.at[i, 'Latitude'] = lat\n",
    "    containers_df.at[i, 'Longitude'] = lon\n",
    "\n",
    "# Save the updated DataFrame with Latitude and Longitude to a new CSV file\n",
    "output_path = 'converted_coordinates_epsg3857.csv'\n",
    "containers_df.to_csv(output_path, index=False)\n",
    "\n",
    "# Print confirmation\n",
    "print(f\"Converted coordinates saved to {output_path}\")\n"
   ]
  },
  {
   "cell_type": "code",
   "execution_count": 2,
   "id": "b40d301d-1601-4210-bd9f-ae76ba0db74b",
   "metadata": {},
   "outputs": [
    {
     "name": "stdout",
     "output_type": "stream",
     "text": [
      "Requirement already satisfied: pyproj in /Users/furkanpolat/anaconda3/envs/EXACTEQUVALNCE/lib/python3.10/site-packages (3.7.0)\n",
      "Requirement already satisfied: certifi in /Users/furkanpolat/anaconda3/envs/EXACTEQUVALNCE/lib/python3.10/site-packages (from pyproj) (2024.7.4)\n",
      "Note: you may need to restart the kernel to use updated packages.\n"
     ]
    }
   ],
   "source": [
    "pip install pyproj\n"
   ]
  },
  {
   "cell_type": "code",
   "execution_count": 3,
   "id": "6f7ebb0a-9ad3-4a58-895b-6e5780b58650",
   "metadata": {},
   "outputs": [
    {
     "name": "stdout",
     "output_type": "stream",
     "text": [
      "Requirement already satisfied: folium in /Users/furkanpolat/anaconda3/envs/EXACTEQUVALNCE/lib/python3.10/site-packages (0.18.0)\n",
      "Requirement already satisfied: branca>=0.6.0 in /Users/furkanpolat/anaconda3/envs/EXACTEQUVALNCE/lib/python3.10/site-packages (from folium) (0.8.0)\n",
      "Requirement already satisfied: jinja2>=2.9 in /Users/furkanpolat/anaconda3/envs/EXACTEQUVALNCE/lib/python3.10/site-packages (from folium) (3.1.4)\n",
      "Requirement already satisfied: numpy in /Users/furkanpolat/anaconda3/envs/EXACTEQUVALNCE/lib/python3.10/site-packages (from folium) (2.1.2)\n",
      "Requirement already satisfied: requests in /Users/furkanpolat/anaconda3/envs/EXACTEQUVALNCE/lib/python3.10/site-packages (from folium) (2.32.3)\n",
      "Requirement already satisfied: xyzservices in /Users/furkanpolat/anaconda3/envs/EXACTEQUVALNCE/lib/python3.10/site-packages (from folium) (2024.9.0)\n",
      "Requirement already satisfied: MarkupSafe>=2.0 in /Users/furkanpolat/anaconda3/envs/EXACTEQUVALNCE/lib/python3.10/site-packages (from jinja2>=2.9->folium) (2.1.3)\n",
      "Requirement already satisfied: charset-normalizer<4,>=2 in /Users/furkanpolat/anaconda3/envs/EXACTEQUVALNCE/lib/python3.10/site-packages (from requests->folium) (3.3.2)\n",
      "Requirement already satisfied: idna<4,>=2.5 in /Users/furkanpolat/anaconda3/envs/EXACTEQUVALNCE/lib/python3.10/site-packages (from requests->folium) (3.7)\n",
      "Requirement already satisfied: urllib3<3,>=1.21.1 in /Users/furkanpolat/anaconda3/envs/EXACTEQUVALNCE/lib/python3.10/site-packages (from requests->folium) (2.2.2)\n",
      "Requirement already satisfied: certifi>=2017.4.17 in /Users/furkanpolat/anaconda3/envs/EXACTEQUVALNCE/lib/python3.10/site-packages (from requests->folium) (2024.7.4)\n",
      "Note: you may need to restart the kernel to use updated packages.\n"
     ]
    }
   ],
   "source": [
    "pip install folium\n"
   ]
  },
  {
   "cell_type": "code",
   "execution_count": 4,
   "id": "ee69f254-9821-4ca6-b6b6-94b0b64738cc",
   "metadata": {},
   "outputs": [
    {
     "ename": "KeyError",
     "evalue": "'STRAATNAAM'",
     "output_type": "error",
     "traceback": [
      "\u001b[0;31m---------------------------------------------------------------------------\u001b[0m",
      "\u001b[0;31mKeyError\u001b[0m                                  Traceback (most recent call last)",
      "File \u001b[0;32m~/anaconda3/envs/EXACTEQUVALNCE/lib/python3.10/site-packages/pandas/core/indexes/base.py:3805\u001b[0m, in \u001b[0;36mIndex.get_loc\u001b[0;34m(self, key)\u001b[0m\n\u001b[1;32m   3804\u001b[0m \u001b[38;5;28;01mtry\u001b[39;00m:\n\u001b[0;32m-> 3805\u001b[0m     \u001b[38;5;28;01mreturn\u001b[39;00m \u001b[38;5;28;43mself\u001b[39;49m\u001b[38;5;241;43m.\u001b[39;49m\u001b[43m_engine\u001b[49m\u001b[38;5;241;43m.\u001b[39;49m\u001b[43mget_loc\u001b[49m\u001b[43m(\u001b[49m\u001b[43mcasted_key\u001b[49m\u001b[43m)\u001b[49m\n\u001b[1;32m   3806\u001b[0m \u001b[38;5;28;01mexcept\u001b[39;00m \u001b[38;5;167;01mKeyError\u001b[39;00m \u001b[38;5;28;01mas\u001b[39;00m err:\n",
      "File \u001b[0;32mindex.pyx:167\u001b[0m, in \u001b[0;36mpandas._libs.index.IndexEngine.get_loc\u001b[0;34m()\u001b[0m\n",
      "File \u001b[0;32mindex.pyx:196\u001b[0m, in \u001b[0;36mpandas._libs.index.IndexEngine.get_loc\u001b[0;34m()\u001b[0m\n",
      "File \u001b[0;32mpandas/_libs/hashtable_class_helper.pxi:7081\u001b[0m, in \u001b[0;36mpandas._libs.hashtable.PyObjectHashTable.get_item\u001b[0;34m()\u001b[0m\n",
      "File \u001b[0;32mpandas/_libs/hashtable_class_helper.pxi:7089\u001b[0m, in \u001b[0;36mpandas._libs.hashtable.PyObjectHashTable.get_item\u001b[0;34m()\u001b[0m\n",
      "\u001b[0;31mKeyError\u001b[0m: 'STRAATNAAM'",
      "\nThe above exception was the direct cause of the following exception:\n",
      "\u001b[0;31mKeyError\u001b[0m                                  Traceback (most recent call last)",
      "Cell \u001b[0;32mIn[4], line 16\u001b[0m\n\u001b[1;32m     12\u001b[0m \u001b[38;5;28;01mfor\u001b[39;00m i, row \u001b[38;5;129;01min\u001b[39;00m containers_df\u001b[38;5;241m.\u001b[39miterrows():\n\u001b[1;32m     13\u001b[0m     \u001b[38;5;28;01mif\u001b[39;00m pd\u001b[38;5;241m.\u001b[39mnotna(row[\u001b[38;5;124m'\u001b[39m\u001b[38;5;124mLatitude\u001b[39m\u001b[38;5;124m'\u001b[39m]) \u001b[38;5;129;01mand\u001b[39;00m pd\u001b[38;5;241m.\u001b[39mnotna(row[\u001b[38;5;124m'\u001b[39m\u001b[38;5;124mLongitude\u001b[39m\u001b[38;5;124m'\u001b[39m]):\n\u001b[1;32m     14\u001b[0m         folium\u001b[38;5;241m.\u001b[39mMarker(\n\u001b[1;32m     15\u001b[0m             location\u001b[38;5;241m=\u001b[39m[row[\u001b[38;5;124m'\u001b[39m\u001b[38;5;124mLatitude\u001b[39m\u001b[38;5;124m'\u001b[39m], row[\u001b[38;5;124m'\u001b[39m\u001b[38;5;124mLongitude\u001b[39m\u001b[38;5;124m'\u001b[39m]],\n\u001b[0;32m---> 16\u001b[0m             popup\u001b[38;5;241m=\u001b[39m\u001b[38;5;124mf\u001b[39m\u001b[38;5;124m\"\u001b[39m\u001b[38;5;124mContainer \u001b[39m\u001b[38;5;132;01m{\u001b[39;00mrow[\u001b[38;5;124m'\u001b[39m\u001b[38;5;124mOBJECTID\u001b[39m\u001b[38;5;124m'\u001b[39m]\u001b[38;5;132;01m}\u001b[39;00m\u001b[38;5;124m: \u001b[39m\u001b[38;5;132;01m{\u001b[39;00mrow[\u001b[38;5;124m'\u001b[39m\u001b[38;5;124mSTRAATNAAM\u001b[39m\u001b[38;5;124m'\u001b[39m]\u001b[38;5;132;01m}\u001b[39;00m\u001b[38;5;124m\"\u001b[39m,\n\u001b[1;32m     17\u001b[0m         )\u001b[38;5;241m.\u001b[39madd_to(m)\n\u001b[1;32m     19\u001b[0m \u001b[38;5;66;03m# Save the map to an HTML file\u001b[39;00m\n\u001b[1;32m     20\u001b[0m m\u001b[38;5;241m.\u001b[39msave(\u001b[38;5;124m'\u001b[39m\u001b[38;5;124mglass_containers_map.html\u001b[39m\u001b[38;5;124m'\u001b[39m)\n",
      "File \u001b[0;32m~/anaconda3/envs/EXACTEQUVALNCE/lib/python3.10/site-packages/pandas/core/series.py:1121\u001b[0m, in \u001b[0;36mSeries.__getitem__\u001b[0;34m(self, key)\u001b[0m\n\u001b[1;32m   1118\u001b[0m     \u001b[38;5;28;01mreturn\u001b[39;00m \u001b[38;5;28mself\u001b[39m\u001b[38;5;241m.\u001b[39m_values[key]\n\u001b[1;32m   1120\u001b[0m \u001b[38;5;28;01melif\u001b[39;00m key_is_scalar:\n\u001b[0;32m-> 1121\u001b[0m     \u001b[38;5;28;01mreturn\u001b[39;00m \u001b[38;5;28;43mself\u001b[39;49m\u001b[38;5;241;43m.\u001b[39;49m\u001b[43m_get_value\u001b[49m\u001b[43m(\u001b[49m\u001b[43mkey\u001b[49m\u001b[43m)\u001b[49m\n\u001b[1;32m   1123\u001b[0m \u001b[38;5;66;03m# Convert generator to list before going through hashable part\u001b[39;00m\n\u001b[1;32m   1124\u001b[0m \u001b[38;5;66;03m# (We will iterate through the generator there to check for slices)\u001b[39;00m\n\u001b[1;32m   1125\u001b[0m \u001b[38;5;28;01mif\u001b[39;00m is_iterator(key):\n",
      "File \u001b[0;32m~/anaconda3/envs/EXACTEQUVALNCE/lib/python3.10/site-packages/pandas/core/series.py:1237\u001b[0m, in \u001b[0;36mSeries._get_value\u001b[0;34m(self, label, takeable)\u001b[0m\n\u001b[1;32m   1234\u001b[0m     \u001b[38;5;28;01mreturn\u001b[39;00m \u001b[38;5;28mself\u001b[39m\u001b[38;5;241m.\u001b[39m_values[label]\n\u001b[1;32m   1236\u001b[0m \u001b[38;5;66;03m# Similar to Index.get_value, but we do not fall back to positional\u001b[39;00m\n\u001b[0;32m-> 1237\u001b[0m loc \u001b[38;5;241m=\u001b[39m \u001b[38;5;28;43mself\u001b[39;49m\u001b[38;5;241;43m.\u001b[39;49m\u001b[43mindex\u001b[49m\u001b[38;5;241;43m.\u001b[39;49m\u001b[43mget_loc\u001b[49m\u001b[43m(\u001b[49m\u001b[43mlabel\u001b[49m\u001b[43m)\u001b[49m\n\u001b[1;32m   1239\u001b[0m \u001b[38;5;28;01mif\u001b[39;00m is_integer(loc):\n\u001b[1;32m   1240\u001b[0m     \u001b[38;5;28;01mreturn\u001b[39;00m \u001b[38;5;28mself\u001b[39m\u001b[38;5;241m.\u001b[39m_values[loc]\n",
      "File \u001b[0;32m~/anaconda3/envs/EXACTEQUVALNCE/lib/python3.10/site-packages/pandas/core/indexes/base.py:3812\u001b[0m, in \u001b[0;36mIndex.get_loc\u001b[0;34m(self, key)\u001b[0m\n\u001b[1;32m   3807\u001b[0m     \u001b[38;5;28;01mif\u001b[39;00m \u001b[38;5;28misinstance\u001b[39m(casted_key, \u001b[38;5;28mslice\u001b[39m) \u001b[38;5;129;01mor\u001b[39;00m (\n\u001b[1;32m   3808\u001b[0m         \u001b[38;5;28misinstance\u001b[39m(casted_key, abc\u001b[38;5;241m.\u001b[39mIterable)\n\u001b[1;32m   3809\u001b[0m         \u001b[38;5;129;01mand\u001b[39;00m \u001b[38;5;28many\u001b[39m(\u001b[38;5;28misinstance\u001b[39m(x, \u001b[38;5;28mslice\u001b[39m) \u001b[38;5;28;01mfor\u001b[39;00m x \u001b[38;5;129;01min\u001b[39;00m casted_key)\n\u001b[1;32m   3810\u001b[0m     ):\n\u001b[1;32m   3811\u001b[0m         \u001b[38;5;28;01mraise\u001b[39;00m InvalidIndexError(key)\n\u001b[0;32m-> 3812\u001b[0m     \u001b[38;5;28;01mraise\u001b[39;00m \u001b[38;5;167;01mKeyError\u001b[39;00m(key) \u001b[38;5;28;01mfrom\u001b[39;00m \u001b[38;5;21;01merr\u001b[39;00m\n\u001b[1;32m   3813\u001b[0m \u001b[38;5;28;01mexcept\u001b[39;00m \u001b[38;5;167;01mTypeError\u001b[39;00m:\n\u001b[1;32m   3814\u001b[0m     \u001b[38;5;66;03m# If we have a listlike key, _check_indexing_error will raise\u001b[39;00m\n\u001b[1;32m   3815\u001b[0m     \u001b[38;5;66;03m#  InvalidIndexError. Otherwise we fall through and re-raise\u001b[39;00m\n\u001b[1;32m   3816\u001b[0m     \u001b[38;5;66;03m#  the TypeError.\u001b[39;00m\n\u001b[1;32m   3817\u001b[0m     \u001b[38;5;28mself\u001b[39m\u001b[38;5;241m.\u001b[39m_check_indexing_error(key)\n",
      "\u001b[0;31mKeyError\u001b[0m: 'STRAATNAAM'"
     ]
    }
   ],
   "source": [
    "import pandas as pd\n",
    "import folium\n",
    "\n",
    "# Load the CSV file with the converted coordinates\n",
    "file_path = 'converted_coordinates_epsg3857.csv'\n",
    "containers_df = pd.read_csv(file_path)\n",
    "\n",
    "# Create a Folium map centered on Antwerp\n",
    "m = folium.Map(location=[51.2194, 4.4025], zoom_start=12)  # Antwerp's approximate latitude and longitude\n",
    "\n",
    "# Add markers to the map for each glass container location\n",
    "for i, row in containers_df.iterrows():\n",
    "    if pd.notna(row['Latitude']) and pd.notna(row['Longitude']):\n",
    "        folium.Marker(\n",
    "            location=[row['Latitude'], row['Longitude']],\n",
    "            popup=f\"Container {row['OBJECTID']}: {row['STRAATNAAM']}\",\n",
    "        ).add_to(m)\n",
    "\n",
    "# Save the map to an HTML file\n",
    "m.save('glass_containers_map.html')\n",
    "\n",
    "# Open the map in your default web browser (optional)\n",
    "import webbrowser\n",
    "webbrowser.open('glass_containers_map.html')\n"
   ]
  },
  {
   "cell_type": "code",
   "execution_count": null,
   "id": "06b9022c-2153-4ecf-b997-fe6b25402674",
   "metadata": {},
   "outputs": [],
   "source": []
  }
 ],
 "metadata": {
  "kernelspec": {
   "display_name": "Python 3 (ipykernel)",
   "language": "python",
   "name": "python3"
  },
  "language_info": {
   "codemirror_mode": {
    "name": "ipython",
    "version": 3
   },
   "file_extension": ".py",
   "mimetype": "text/x-python",
   "name": "python",
   "nbconvert_exporter": "python",
   "pygments_lexer": "ipython3",
   "version": "3.10.14"
  }
 },
 "nbformat": 4,
 "nbformat_minor": 5
}
