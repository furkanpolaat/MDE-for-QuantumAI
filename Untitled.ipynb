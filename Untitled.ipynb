{
 "cells": [
  {
   "cell_type": "code",
   "execution_count": 1,
   "id": "6679aa02-20aa-4686-acd7-320874ddd510",
   "metadata": {},
   "outputs": [
    {
     "name": "stdout",
     "output_type": "stream",
     "text": [
      "Requirement already satisfied: pandas in /Users/furkanpolat/anaconda3/envs/EXACTEQUVALNCE/lib/python3.10/site-packages (2.2.3)\n",
      "Collecting googlemaps\n",
      "  Downloading googlemaps-4.10.0.tar.gz (33 kB)\n",
      "  Preparing metadata (setup.py) ... \u001b[?25ldone\n",
      "\u001b[?25hRequirement already satisfied: numpy>=1.22.4 in /Users/furkanpolat/anaconda3/envs/EXACTEQUVALNCE/lib/python3.10/site-packages (from pandas) (2.1.2)\n",
      "Requirement already satisfied: python-dateutil>=2.8.2 in /Users/furkanpolat/anaconda3/envs/EXACTEQUVALNCE/lib/python3.10/site-packages (from pandas) (2.9.0.post0)\n",
      "Requirement already satisfied: pytz>=2020.1 in /Users/furkanpolat/anaconda3/envs/EXACTEQUVALNCE/lib/python3.10/site-packages (from pandas) (2024.1)\n",
      "Requirement already satisfied: tzdata>=2022.7 in /Users/furkanpolat/anaconda3/envs/EXACTEQUVALNCE/lib/python3.10/site-packages (from pandas) (2024.2)\n",
      "Requirement already satisfied: requests<3.0,>=2.20.0 in /Users/furkanpolat/anaconda3/envs/EXACTEQUVALNCE/lib/python3.10/site-packages (from googlemaps) (2.32.3)\n",
      "Requirement already satisfied: six>=1.5 in /Users/furkanpolat/anaconda3/envs/EXACTEQUVALNCE/lib/python3.10/site-packages (from python-dateutil>=2.8.2->pandas) (1.16.0)\n",
      "Requirement already satisfied: charset-normalizer<4,>=2 in /Users/furkanpolat/anaconda3/envs/EXACTEQUVALNCE/lib/python3.10/site-packages (from requests<3.0,>=2.20.0->googlemaps) (3.3.2)\n",
      "Requirement already satisfied: idna<4,>=2.5 in /Users/furkanpolat/anaconda3/envs/EXACTEQUVALNCE/lib/python3.10/site-packages (from requests<3.0,>=2.20.0->googlemaps) (3.7)\n",
      "Requirement already satisfied: urllib3<3,>=1.21.1 in /Users/furkanpolat/anaconda3/envs/EXACTEQUVALNCE/lib/python3.10/site-packages (from requests<3.0,>=2.20.0->googlemaps) (2.2.2)\n",
      "Requirement already satisfied: certifi>=2017.4.17 in /Users/furkanpolat/anaconda3/envs/EXACTEQUVALNCE/lib/python3.10/site-packages (from requests<3.0,>=2.20.0->googlemaps) (2024.7.4)\n",
      "Building wheels for collected packages: googlemaps\n",
      "  Building wheel for googlemaps (setup.py) ... \u001b[?25ldone\n",
      "\u001b[?25h  Created wheel for googlemaps: filename=googlemaps-4.10.0-py3-none-any.whl size=40712 sha256=c290452cf97989ad49f67c8d6e9010660fac0b5629bb876da6cd6fd25ffac2ce\n",
      "  Stored in directory: /Users/furkanpolat/Library/Caches/pip/wheels/17/f8/79/999d5d37118fd35d7219ef57933eb9d09886c4c4503a800f84\n",
      "Successfully built googlemaps\n",
      "Installing collected packages: googlemaps\n",
      "Successfully installed googlemaps-4.10.0\n",
      "Note: you may need to restart the kernel to use updated packages.\n"
     ]
    }
   ],
   "source": [
    "pip install pandas googlemaps\n"
   ]
  },
  {
   "cell_type": "code",
   "execution_count": 14,
   "id": "301f1ce4-b8e0-4de7-b8b1-80b09765d1ed",
   "metadata": {},
   "outputs": [
    {
     "name": "stdout",
     "output_type": "stream",
     "text": [
      "Converted coordinates saved to converted_coordinates_epsg3857.csv\n"
     ]
    }
   ],
   "source": [
    "import pandas as pd\n",
    "import pyproj\n",
    "\n",
    "# Load your CSV file (replace with your actual file path)\n",
    "file_path = 'glascontainer.csv'\n",
    "containers_df = pd.read_csv(file_path)\n",
    "\n",
    "# Initialize the transformer (from EPSG:3857 to EPSG:4326 for lat/long)\n",
    "transformer = pyproj.Transformer.from_crs(\"EPSG:3857\", \"EPSG:4326\", always_xy=True)\n",
    "\n",
    "# Convert the X and Y coordinates to latitude and longitude\n",
    "def convert_coordinates(x, y):\n",
    "    lon, lat = transformer.transform(x, y)\n",
    "    return lat, lon\n",
    "\n",
    "# Create new columns for Latitude and Longitude\n",
    "containers_df['Latitude'] = None\n",
    "containers_df['Longitude'] = None\n",
    "\n",
    "# Apply the conversion to all rows\n",
    "for i in range(len(containers_df)):\n",
    "    x = containers_df.loc[i, 'X']\n",
    "    y = containers_df.loc[i, 'Y']\n",
    "    lat, lon = convert_coordinates(x, y)\n",
    "    containers_df.at[i, 'Latitude'] = lat\n",
    "    containers_df.at[i, 'Longitude'] = lon\n",
    "\n",
    "# Save the updated DataFrame with Latitude and Longitude to a new CSV file\n",
    "output_path = 'converted_coordinates_epsg3857.csv'\n",
    "containers_df.to_csv(output_path, index=False)\n",
    "\n",
    "# Print confirmation\n",
    "print(f\"Converted coordinates saved to {output_path}\")\n"
   ]
  },
  {
   "cell_type": "code",
   "execution_count": 6,
   "id": "b40d301d-1601-4210-bd9f-ae76ba0db74b",
   "metadata": {},
   "outputs": [
    {
     "name": "stdout",
     "output_type": "stream",
     "text": [
      "Collecting pyproj\n",
      "  Downloading pyproj-3.7.0-cp310-cp310-macosx_14_0_arm64.whl.metadata (31 kB)\n",
      "Requirement already satisfied: certifi in /Users/furkanpolat/anaconda3/envs/EXACTEQUVALNCE/lib/python3.10/site-packages (from pyproj) (2024.7.4)\n",
      "Downloading pyproj-3.7.0-cp310-cp310-macosx_14_0_arm64.whl (4.6 MB)\n",
      "\u001b[2K   \u001b[90m━━━━━━━━━━━━━━━━━━━━━━━━━━━━━━━━━━━━━━━━\u001b[0m \u001b[32m4.6/4.6 MB\u001b[0m \u001b[31m13.6 MB/s\u001b[0m eta \u001b[36m0:00:00\u001b[0m00:01\u001b[0m00:01\u001b[0m\n",
      "\u001b[?25hInstalling collected packages: pyproj\n",
      "Successfully installed pyproj-3.7.0\n",
      "Note: you may need to restart the kernel to use updated packages.\n"
     ]
    }
   ],
   "source": [
    "pip install pyproj\n"
   ]
  },
  {
   "cell_type": "code",
   "execution_count": 9,
   "id": "6f7ebb0a-9ad3-4a58-895b-6e5780b58650",
   "metadata": {},
   "outputs": [
    {
     "name": "stdout",
     "output_type": "stream",
     "text": [
      "Collecting folium\n",
      "  Downloading folium-0.18.0-py2.py3-none-any.whl.metadata (3.8 kB)\n",
      "Collecting branca>=0.6.0 (from folium)\n",
      "  Using cached branca-0.8.0-py3-none-any.whl.metadata (1.5 kB)\n",
      "Requirement already satisfied: jinja2>=2.9 in /Users/furkanpolat/anaconda3/envs/EXACTEQUVALNCE/lib/python3.10/site-packages (from folium) (3.1.4)\n",
      "Requirement already satisfied: numpy in /Users/furkanpolat/anaconda3/envs/EXACTEQUVALNCE/lib/python3.10/site-packages (from folium) (2.1.2)\n",
      "Requirement already satisfied: requests in /Users/furkanpolat/anaconda3/envs/EXACTEQUVALNCE/lib/python3.10/site-packages (from folium) (2.32.3)\n",
      "Collecting xyzservices (from folium)\n",
      "  Using cached xyzservices-2024.9.0-py3-none-any.whl.metadata (4.1 kB)\n",
      "Requirement already satisfied: MarkupSafe>=2.0 in /Users/furkanpolat/anaconda3/envs/EXACTEQUVALNCE/lib/python3.10/site-packages (from jinja2>=2.9->folium) (2.1.3)\n",
      "Requirement already satisfied: charset-normalizer<4,>=2 in /Users/furkanpolat/anaconda3/envs/EXACTEQUVALNCE/lib/python3.10/site-packages (from requests->folium) (3.3.2)\n",
      "Requirement already satisfied: idna<4,>=2.5 in /Users/furkanpolat/anaconda3/envs/EXACTEQUVALNCE/lib/python3.10/site-packages (from requests->folium) (3.7)\n",
      "Requirement already satisfied: urllib3<3,>=1.21.1 in /Users/furkanpolat/anaconda3/envs/EXACTEQUVALNCE/lib/python3.10/site-packages (from requests->folium) (2.2.2)\n",
      "Requirement already satisfied: certifi>=2017.4.17 in /Users/furkanpolat/anaconda3/envs/EXACTEQUVALNCE/lib/python3.10/site-packages (from requests->folium) (2024.7.4)\n",
      "Downloading folium-0.18.0-py2.py3-none-any.whl (108 kB)\n",
      "\u001b[2K   \u001b[90m━━━━━━━━━━━━━━━━━━━━━━━━━━━━━━━━━━━━━━━━\u001b[0m \u001b[32m108.9/108.9 kB\u001b[0m \u001b[31m3.1 MB/s\u001b[0m eta \u001b[36m0:00:00\u001b[0m\n",
      "\u001b[?25hUsing cached branca-0.8.0-py3-none-any.whl (25 kB)\n",
      "Using cached xyzservices-2024.9.0-py3-none-any.whl (85 kB)\n",
      "Installing collected packages: xyzservices, branca, folium\n",
      "Successfully installed branca-0.8.0 folium-0.18.0 xyzservices-2024.9.0\n",
      "Note: you may need to restart the kernel to use updated packages.\n"
     ]
    }
   ],
   "source": [
    "pip install folium\n"
   ]
  },
  {
   "cell_type": "code",
   "execution_count": 15,
   "id": "ee69f254-9821-4ca6-b6b6-94b0b64738cc",
   "metadata": {},
   "outputs": [
    {
     "data": {
      "text/plain": [
       "True"
      ]
     },
     "execution_count": 15,
     "metadata": {},
     "output_type": "execute_result"
    }
   ],
   "source": [
    "import pandas as pd\n",
    "import folium\n",
    "\n",
    "# Load the CSV file with the converted coordinates\n",
    "file_path = 'converted_coordinates_epsg3857.csv'\n",
    "containers_df = pd.read_csv(file_path)\n",
    "\n",
    "# Create a Folium map centered on Antwerp\n",
    "m = folium.Map(location=[51.2194, 4.4025], zoom_start=12)  # Antwerp's approximate latitude and longitude\n",
    "\n",
    "# Add markers to the map for each glass container location\n",
    "for i, row in containers_df.iterrows():\n",
    "    if pd.notna(row['Latitude']) and pd.notna(row['Longitude']):\n",
    "        folium.Marker(\n",
    "            location=[row['Latitude'], row['Longitude']],\n",
    "            popup=f\"Container {row['OBJECTID']}: {row['STRAATNAAM']}\",\n",
    "        ).add_to(m)\n",
    "\n",
    "# Save the map to an HTML file\n",
    "m.save('glass_containers_map.html')\n",
    "\n",
    "# Open the map in your default web browser (optional)\n",
    "import webbrowser\n",
    "webbrowser.open('glass_containers_map.html')\n"
   ]
  },
  {
   "cell_type": "code",
   "execution_count": null,
   "id": "06b9022c-2153-4ecf-b997-fe6b25402674",
   "metadata": {},
   "outputs": [],
   "source": []
  }
 ],
 "metadata": {
  "kernelspec": {
   "display_name": "Python 3 (ipykernel)",
   "language": "python",
   "name": "python3"
  },
  "language_info": {
   "codemirror_mode": {
    "name": "ipython",
    "version": 3
   },
   "file_extension": ".py",
   "mimetype": "text/x-python",
   "name": "python",
   "nbconvert_exporter": "python",
   "pygments_lexer": "ipython3",
   "version": "3.10.14"
  }
 },
 "nbformat": 4,
 "nbformat_minor": 5
}
