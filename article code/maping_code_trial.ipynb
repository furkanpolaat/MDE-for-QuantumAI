{
 "cells": [
  {
   "cell_type": "code",
   "execution_count": null,
   "id": "4d2befae-1b90-42d3-9f69-3fed3a176a63",
   "metadata": {},
   "outputs": [],
   "source": [
    "!pip uninstall qiskit-chemistry\n",
    "!pip uninstall qiskit-aqua\n",
    "!pip uninstall qiskit-terra\n",
    "!pip uninstall qiskit-aer\n",
    "!pip uninstall qiskit\n",
    "!pip install qiskit \n",
    "!pip install qiskit-aqua\n",
    "!pip install qiskit-chemistry"
   ]
  },
  {
   "cell_type": "code",
   "execution_count": 1,
   "id": "7e90c705-2558-43ce-9820-9c5d83d4794b",
   "metadata": {},
   "outputs": [
    {
     "ename": "ImportError",
     "evalue": "Qiskit is installed in an invalid environment that has both Qiskit >=1.0 and an earlier version. You should create a new virtual environment, and ensure that you do not mix dependencies between Qiskit <1.0 and >=1.0. Any packages that depend on 'qiskit-terra' are not compatible with Qiskit 1.0 and will need to be updated. Qiskit unfortunately cannot enforce this requirement during environment resolution. See https://qisk.it/packaging-1-0 for more detail.",
     "output_type": "error",
     "traceback": [
      "\u001b[0;31m---------------------------------------------------------------------------\u001b[0m",
      "\u001b[0;31mImportError\u001b[0m                               Traceback (most recent call last)",
      "Cell \u001b[0;32mIn[1], line 2\u001b[0m\n\u001b[1;32m      1\u001b[0m \u001b[38;5;28;01mimport\u001b[39;00m \u001b[38;5;21;01mre\u001b[39;00m\n\u001b[0;32m----> 2\u001b[0m \u001b[38;5;28;01mfrom\u001b[39;00m \u001b[38;5;21;01mqiskit\u001b[39;00m \u001b[38;5;28;01mimport\u001b[39;00m Aer\n\u001b[1;32m      3\u001b[0m \u001b[38;5;28;01mfrom\u001b[39;00m \u001b[38;5;21;01mqiskit\u001b[39;00m\u001b[38;5;21;01m.\u001b[39;00m\u001b[38;5;21;01mopflow\u001b[39;00m \u001b[38;5;28;01mimport\u001b[39;00m I, Z\n\u001b[1;32m      4\u001b[0m \u001b[38;5;28;01mfrom\u001b[39;00m \u001b[38;5;21;01mqiskit\u001b[39;00m\u001b[38;5;21;01m.\u001b[39;00m\u001b[38;5;21;01mcircuit\u001b[39;00m\u001b[38;5;21;01m.\u001b[39;00m\u001b[38;5;21;01mlibrary\u001b[39;00m \u001b[38;5;28;01mimport\u001b[39;00m EfficientSU2\n",
      "File \u001b[0;32m~/anaconda3/envs/enyenihepyeni/lib/python3.10/site-packages/qiskit/__init__.py:38\u001b[0m\n\u001b[1;32m     36\u001b[0m     _suppress_error \u001b[38;5;241m=\u001b[39m os\u001b[38;5;241m.\u001b[39menviron\u001b[38;5;241m.\u001b[39mget(\u001b[38;5;124m\"\u001b[39m\u001b[38;5;124mQISKIT_SUPPRESS_1_0_IMPORT_ERROR\u001b[39m\u001b[38;5;124m\"\u001b[39m, \u001b[38;5;28;01mFalse\u001b[39;00m) \u001b[38;5;241m==\u001b[39m \u001b[38;5;124m\"\u001b[39m\u001b[38;5;124m1\u001b[39m\u001b[38;5;124m\"\u001b[39m\n\u001b[1;32m     37\u001b[0m     \u001b[38;5;28;01mif\u001b[39;00m \u001b[38;5;28mint\u001b[39m(_major) \u001b[38;5;241m>\u001b[39m \u001b[38;5;241m0\u001b[39m \u001b[38;5;129;01mand\u001b[39;00m \u001b[38;5;129;01mnot\u001b[39;00m _suppress_error:\n\u001b[0;32m---> 38\u001b[0m         \u001b[38;5;28;01mraise\u001b[39;00m \u001b[38;5;167;01mImportError\u001b[39;00m(\n\u001b[1;32m     39\u001b[0m             \u001b[38;5;124m\"\u001b[39m\u001b[38;5;124mQiskit is installed in an invalid environment that has both Qiskit >=1.0\u001b[39m\u001b[38;5;124m\"\u001b[39m\n\u001b[1;32m     40\u001b[0m             \u001b[38;5;124m\"\u001b[39m\u001b[38;5;124m and an earlier version.\u001b[39m\u001b[38;5;124m\"\u001b[39m\n\u001b[1;32m     41\u001b[0m             \u001b[38;5;124m\"\u001b[39m\u001b[38;5;124m You should create a new virtual environment, and ensure that you do not mix\u001b[39m\u001b[38;5;124m\"\u001b[39m\n\u001b[1;32m     42\u001b[0m             \u001b[38;5;124m\"\u001b[39m\u001b[38;5;124m dependencies between Qiskit <1.0 and >=1.0.\u001b[39m\u001b[38;5;124m\"\u001b[39m\n\u001b[1;32m     43\u001b[0m             \u001b[38;5;124m\"\u001b[39m\u001b[38;5;124m Any packages that depend on \u001b[39m\u001b[38;5;124m'\u001b[39m\u001b[38;5;124mqiskit-terra\u001b[39m\u001b[38;5;124m'\u001b[39m\u001b[38;5;124m are not compatible with Qiskit 1.0 and\u001b[39m\u001b[38;5;124m\"\u001b[39m\n\u001b[1;32m     44\u001b[0m             \u001b[38;5;124m\"\u001b[39m\u001b[38;5;124m will need to be updated.\u001b[39m\u001b[38;5;124m\"\u001b[39m\n\u001b[1;32m     45\u001b[0m             \u001b[38;5;124m\"\u001b[39m\u001b[38;5;124m Qiskit unfortunately cannot enforce this requirement during environment resolution.\u001b[39m\u001b[38;5;124m\"\u001b[39m\n\u001b[1;32m     46\u001b[0m             \u001b[38;5;124m\"\u001b[39m\u001b[38;5;124m See https://qisk.it/packaging-1-0 for more detail.\u001b[39m\u001b[38;5;124m\"\u001b[39m\n\u001b[1;32m     47\u001b[0m         )\n\u001b[1;32m     49\u001b[0m \u001b[38;5;28;01mimport\u001b[39;00m \u001b[38;5;21;01mqiskit\u001b[39;00m\u001b[38;5;21;01m.\u001b[39;00m\u001b[38;5;21;01m_accelerate\u001b[39;00m\n\u001b[1;32m     51\u001b[0m \u001b[38;5;66;03m# Globally define compiled submodules. The normal import mechanism will not find compiled submodules\u001b[39;00m\n\u001b[1;32m     52\u001b[0m \u001b[38;5;66;03m# in _accelerate because it relies on file paths, but PyO3 generates only one shared library file.\u001b[39;00m\n\u001b[1;32m     53\u001b[0m \u001b[38;5;66;03m# We manually define them on import so people can directly import qiskit._accelerate.* submodules\u001b[39;00m\n\u001b[1;32m     54\u001b[0m \u001b[38;5;66;03m# and not have to rely on attribute access.  No action needed for top-level extension packages.\u001b[39;00m\n",
      "\u001b[0;31mImportError\u001b[0m: Qiskit is installed in an invalid environment that has both Qiskit >=1.0 and an earlier version. You should create a new virtual environment, and ensure that you do not mix dependencies between Qiskit <1.0 and >=1.0. Any packages that depend on 'qiskit-terra' are not compatible with Qiskit 1.0 and will need to be updated. Qiskit unfortunately cannot enforce this requirement during environment resolution. See https://qisk.it/packaging-1-0 for more detail."
     ]
    }
   ],
   "source": [
    "import re\n",
    "from qiskit import Aer\n",
    "from qiskit.opflow import I, Z\n",
    "from qiskit.circuit.library import EfficientSU2\n",
    "from qiskit.algorithms.optimizers import SPSA\n",
    "from qiskit.algorithms import VQE\n",
    "from qiskit.utils import QuantumInstance\n"
   ]
  },
  {
   "cell_type": "code",
   "execution_count": 3,
   "id": "33911105-ca0e-475d-ae60-91338f1cb2c0",
   "metadata": {},
   "outputs": [
    {
     "ename": "ModuleNotFoundError",
     "evalue": "No module named 'qiskit.circuit'",
     "output_type": "error",
     "traceback": [
      "\u001b[0;31m---------------------------------------------------------------------------\u001b[0m",
      "\u001b[0;31mModuleNotFoundError\u001b[0m                       Traceback (most recent call last)",
      "Cell \u001b[0;32mIn[3], line 8\u001b[0m\n\u001b[1;32m      5\u001b[0m warnings\u001b[38;5;241m.\u001b[39mfilterwarnings(\u001b[38;5;124m\"\u001b[39m\u001b[38;5;124mignore\u001b[39m\u001b[38;5;124m\"\u001b[39m)\n\u001b[1;32m      7\u001b[0m \u001b[38;5;66;03m# Pre-defined ansatz circuit and operator class for Hamiltonian\u001b[39;00m\n\u001b[0;32m----> 8\u001b[0m \u001b[38;5;28;01mfrom\u001b[39;00m \u001b[38;5;21;01mqiskit\u001b[39;00m\u001b[38;5;21;01m.\u001b[39;00m\u001b[38;5;21;01mcircuit\u001b[39;00m\u001b[38;5;21;01m.\u001b[39;00m\u001b[38;5;21;01mlibrary\u001b[39;00m \u001b[38;5;28;01mimport\u001b[39;00m EfficientSU2\n\u001b[1;32m      9\u001b[0m \u001b[38;5;28;01mfrom\u001b[39;00m \u001b[38;5;21;01mqiskit\u001b[39;00m\u001b[38;5;21;01m.\u001b[39;00m\u001b[38;5;21;01mquantum_info\u001b[39;00m \u001b[38;5;28;01mimport\u001b[39;00m SparsePauliOp\n\u001b[1;32m     11\u001b[0m \u001b[38;5;66;03m# SciPy minimizer routine\u001b[39;00m\n",
      "\u001b[0;31mModuleNotFoundError\u001b[0m: No module named 'qiskit.circuit'"
     ]
    }
   ],
   "source": [
    "# General imports\n",
    "import numpy as np\n",
    "import warnings\n",
    "\n",
    "warnings.filterwarnings(\"ignore\")\n",
    "\n",
    "# Pre-defined ansatz circuit and operator class for Hamiltonian\n",
    "from qiskit.circuit.library import EfficientSU2\n",
    "from qiskit.quantum_info import SparsePauliOp\n",
    "\n",
    "# SciPy minimizer routine\n",
    "from scipy.optimize import minimize\n",
    "\n",
    "# Plotting functions\n",
    "import matplotlib.pyplot as plt"
   ]
  },
  {
   "cell_type": "code",
   "execution_count": 2,
   "id": "57199f89-353e-4729-a8bd-c9a449397464",
   "metadata": {},
   "outputs": [],
   "source": [
    "import re\n",
    "# Function to parse the h and J from the given D-Wave code snippet\n",
    "def parse_dwave_settings(code):\n",
    "    h = eval(re.findall(r\"h = ({.*?})  # external magnetic fields\", code)[0])\n",
    "    J = eval(re.findall(r\"J = ({.*?})  # coupler biases between qubits\", code)[0])\n",
    "    return h, J"
   ]
  },
  {
   "cell_type": "code",
   "execution_count": 3,
   "id": "ec65414d-66e0-4953-8f03-21bbdd74678e",
   "metadata": {},
   "outputs": [],
   "source": [
    "\n",
    "# Function to determine entanglement type based on J\n",
    "def determine_entanglement_type(J):\n",
    "    all_qubits = sorted(set([k for sub in J.keys() for k in sub]))\n",
    "    num_qubits = len(all_qubits)\n",
    "    graph = {i: set() for i in all_qubits}\n",
    "    for (i, j) in J:\n",
    "        graph[i].add(j)\n",
    "        graph[j].add(i)\n",
    "    full_entangled = all(len(connections) == num_qubits - 1 for connections in graph.values())\n",
    "    if full_entangled:\n",
    "        return 'full'\n",
    "    if len(J) == num_qubits and all(all_qubits[i] in graph[all_qubits[(i + 1) % num_qubits]] for i in range(num_qubits)):\n",
    "        return 'circular'\n",
    "    linear_check = all(all_qubits[i] in graph[all_qubits[i + 1]] for i in range(num_qubits - 1))\n",
    "    if linear_check and len(J) == num_qubits - 1:\n",
    "        return 'linear'\n",
    "    return 'mixed'\n",
    "\n"
   ]
  },
  {
   "cell_type": "code",
   "execution_count": 4,
   "id": "22d28666-6623-46e9-aaa0-ad9fd1f96428",
   "metadata": {},
   "outputs": [
    {
     "ename": "IndexError",
     "evalue": "list index out of range",
     "output_type": "error",
     "traceback": [
      "\u001b[0;31m---------------------------------------------------------------------------\u001b[0m",
      "\u001b[0;31mIndexError\u001b[0m                                Traceback (most recent call last)",
      "Cell \u001b[0;32mIn[4], line 8\u001b[0m\n\u001b[1;32m      1\u001b[0m \u001b[38;5;66;03m# Example D-Wave code\u001b[39;00m\n\u001b[1;32m      2\u001b[0m dwave_code \u001b[38;5;241m=\u001b[39m \u001b[38;5;124m\"\"\"\u001b[39m\n\u001b[1;32m      3\u001b[0m \u001b[38;5;124m# Define the Ising model parameters\u001b[39m\n\u001b[1;32m      4\u001b[0m \u001b[38;5;124mh = \u001b[39m\u001b[38;5;124m{\u001b[39m\u001b[38;5;124m0: 1, 1: 1, 2: 1, 3: 1}\u001b[39m\n\u001b[1;32m      5\u001b[0m \u001b[38;5;124mJ = \u001b[39m\u001b[38;5;124m{\u001b[39m\u001b[38;5;124m(0, 1): 1, (1, 2): 1, (2, 3): 1, (0, 3): 1}\u001b[39m\n\u001b[1;32m      6\u001b[0m \u001b[38;5;124m\"\"\"\u001b[39m\n\u001b[0;32m----> 8\u001b[0m h, J \u001b[38;5;241m=\u001b[39m \u001b[43mparse_dwave_settings\u001b[49m\u001b[43m(\u001b[49m\u001b[43mdwave_code\u001b[49m\u001b[43m)\u001b[49m\n\u001b[1;32m      9\u001b[0m entanglement_type \u001b[38;5;241m=\u001b[39m determine_entanglement_type(J)\n",
      "Cell \u001b[0;32mIn[2], line 4\u001b[0m, in \u001b[0;36mparse_dwave_settings\u001b[0;34m(code)\u001b[0m\n\u001b[1;32m      3\u001b[0m \u001b[38;5;28;01mdef\u001b[39;00m \u001b[38;5;21mparse_dwave_settings\u001b[39m(code):\n\u001b[0;32m----> 4\u001b[0m     h \u001b[38;5;241m=\u001b[39m \u001b[38;5;28meval\u001b[39m(\u001b[43mre\u001b[49m\u001b[38;5;241;43m.\u001b[39;49m\u001b[43mfindall\u001b[49m\u001b[43m(\u001b[49m\u001b[38;5;124;43mr\u001b[39;49m\u001b[38;5;124;43m\"\u001b[39;49m\u001b[38;5;124;43mh = (\u001b[39;49m\u001b[38;5;124;43m{\u001b[39;49m\u001b[38;5;124;43m.*?})  # external magnetic fields\u001b[39;49m\u001b[38;5;124;43m\"\u001b[39;49m\u001b[43m,\u001b[49m\u001b[43m \u001b[49m\u001b[43mcode\u001b[49m\u001b[43m)\u001b[49m\u001b[43m[\u001b[49m\u001b[38;5;241;43m0\u001b[39;49m\u001b[43m]\u001b[49m)\n\u001b[1;32m      5\u001b[0m     J \u001b[38;5;241m=\u001b[39m \u001b[38;5;28meval\u001b[39m(re\u001b[38;5;241m.\u001b[39mfindall(\u001b[38;5;124mr\u001b[39m\u001b[38;5;124m\"\u001b[39m\u001b[38;5;124mJ = (\u001b[39m\u001b[38;5;124m{\u001b[39m\u001b[38;5;124m.*?})  # coupler biases between qubits\u001b[39m\u001b[38;5;124m\"\u001b[39m, code)[\u001b[38;5;241m0\u001b[39m])\n\u001b[1;32m      6\u001b[0m     \u001b[38;5;28;01mreturn\u001b[39;00m h, J\n",
      "\u001b[0;31mIndexError\u001b[0m: list index out of range"
     ]
    }
   ],
   "source": [
    "\n",
    "\n",
    "# Example D-Wave code\n",
    "dwave_code = \"\"\"\n",
    "# Define the Ising model parameters\n",
    "h = {0: 1, 1: 1, 2: 1, 3: 1}\n",
    "J = {(0, 1): 1, (1, 2): 1, (2, 3): 1, (0, 3): 1}\n",
    "\"\"\"\n",
    "\n",
    "h, J = parse_dwave_settings(dwave_code)\n",
    "entanglement_type = determine_entanglement_type(J)"
   ]
  },
  {
   "cell_type": "code",
   "execution_count": 5,
   "id": "74d4ccb6-98d6-4f3c-83ac-11ca9270230c",
   "metadata": {},
   "outputs": [
    {
     "ename": "NameError",
     "evalue": "name 'J' is not defined",
     "output_type": "error",
     "traceback": [
      "\u001b[0;31m---------------------------------------------------------------------------\u001b[0m",
      "\u001b[0;31mNameError\u001b[0m                                 Traceback (most recent call last)",
      "Cell \u001b[0;32mIn[5], line 2\u001b[0m\n\u001b[1;32m      1\u001b[0m \u001b[38;5;66;03m# Construct the Hamiltonian for the Ising model\u001b[39;00m\n\u001b[0;32m----> 2\u001b[0m paulis \u001b[38;5;241m=\u001b[39m [(Z(i) \u001b[38;5;241m*\u001b[39m Z(j)) \u001b[38;5;28;01mfor\u001b[39;00m i, j \u001b[38;5;129;01min\u001b[39;00m \u001b[43mJ\u001b[49m]\n\u001b[1;32m      3\u001b[0m field \u001b[38;5;241m=\u001b[39m [h[i] \u001b[38;5;241m*\u001b[39m Z(i) \u001b[38;5;28;01mfor\u001b[39;00m i \u001b[38;5;129;01min\u001b[39;00m h]\n\u001b[1;32m      4\u001b[0m hamiltonian \u001b[38;5;241m=\u001b[39m \u001b[38;5;28msum\u001b[39m(paulis \u001b[38;5;241m+\u001b[39m field, start\u001b[38;5;241m=\u001b[39m\u001b[38;5;241m0\u001b[39m \u001b[38;5;241m*\u001b[39m I(\u001b[38;5;241m0\u001b[39m))\n",
      "\u001b[0;31mNameError\u001b[0m: name 'J' is not defined"
     ]
    }
   ],
   "source": [
    "\n",
    "\n",
    "# Construct the Hamiltonian for the Ising model\n",
    "paulis = [(Z(i) * Z(j)) for i, j in J]\n",
    "field = [h[i] * Z(i) for i in h]\n",
    "hamiltonian = sum(paulis + field, start=0 * I(0))\n",
    "\n",
    "# Setup the quantum instance (simulator)\n",
    "backend = Aer.get_backend('aer_simulator')\n",
    "quantum_instance = QuantumInstance(backend)\n",
    "\n",
    "# Define the ansatz with determined entanglement\n",
    "ansatz = EfficientSU2(num_qubits=len(h), entanglement=entanglement_type, reps=1)\n",
    "\n",
    "# Define the optimizer\n",
    "optimizer = SPSA(maxiter=300)\n",
    "\n",
    "# Setup and run VQE\n",
    "vqe = VQE(ansatz, optimizer, quantum_instance=quantum_instance)\n",
    "result = vqe.compute_minimum_eigenvalue(operator=hamiltonian)\n",
    "\n",
    "# Output results\n",
    "print(f\"Entanglement Type: {entanglement_type}\")\n",
    "print(\"Ground State Energy (VQE):\", result.eigenvalue.real)\n"
   ]
  },
  {
   "cell_type": "code",
   "execution_count": null,
   "id": "a3a5a369-6603-4538-be10-26d9dd8fe5e0",
   "metadata": {},
   "outputs": [],
   "source": []
  }
 ],
 "metadata": {
  "kernelspec": {
   "display_name": "Python 3 (ipykernel)",
   "language": "python",
   "name": "python3"
  },
  "language_info": {
   "codemirror_mode": {
    "name": "ipython",
    "version": 3
   },
   "file_extension": ".py",
   "mimetype": "text/x-python",
   "name": "python",
   "nbconvert_exporter": "python",
   "pygments_lexer": "ipython3",
   "version": "3.10.14"
  }
 },
 "nbformat": 4,
 "nbformat_minor": 5
}
