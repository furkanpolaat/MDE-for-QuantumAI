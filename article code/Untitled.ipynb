{
 "cells": [
  {
   "cell_type": "code",
   "execution_count": null,
   "id": "b78a2d6f",
   "metadata": {},
   "outputs": [],
   "source": [
    "def digit_sum(n):\n",
    "    num_str = str(n)\n",
    "    sum = 0\n",
    "    for i in range(0, len(num_str)):\n",
    "        sum += int(num_str[i])\n",
    "    return sum\n"
   ]
  },
  {
   "cell_type": "code",
   "execution_count": null,
   "id": "da592ea9",
   "metadata": {},
   "outputs": [],
   "source": [
    "# CZ (Controlled-Z)\n",
    "# control qubit: q0\n",
    "# target qubit: q1\n",
    "def CZ(qp,q0,q1):\n",
    "    qp.h(q1)\n",
    "    qp.cx(q0,q1)\n",
    "    qp.h(q1)\n",
    "# f-SWAP\n",
    "# taking into account the one-directionality of CNOT gates in the available devices\n",
    "def fSWAP(qp,q0,q1):\n",
    "    qp.cx(q0,q1)\n",
    "    qp.h(q0)\n",
    "    qp.h(q1)\n",
    "    qp.cx(q0,q1)\n",
    "    qp.h(q0)\n",
    "    qp.h(q1)\n",
    "    qp.cx(q0,q1)\n",
    "    CZ(qp,q0,q1)"
   ]
  },
  {
   "cell_type": "code",
   "execution_count": null,
   "id": "e3be2c02",
   "metadata": {},
   "outputs": [],
   "source": [
    "# CH (Controlled-Haddamard)\n",
    "# control qubit: q1\n",
    "# target qubit: q0\n",
    "def CH2(qp,q0,q1):\n",
    "    qp.sdg(q0)\n",
    "    qp.h(q0)\n",
    "    qp.tdg(q0)\n",
    "    qp.h(q0)\n",
    "    qp.h(q1)\n",
    "    qp.cx(q0,q1)\n",
    "    qp.h(q0)\n",
    "    qp.h(q1)\n",
    "    qp.t(q0)\n",
    "    qp.h(q0)\n",
    "    qp.s(q0)\n",
    "# Fourier transform gates\n",
    "def F2(qp,q0,q1):\n",
    "    qp.cx(q0,q1)\n",
    "    CH2(qp,q0,q1)\n",
    "    qp.cx(q0,q1)\n",
    "    CZ(qp,q0,q1) \n",
    "def F0(qp,q0,q1):\n",
    "    F2(qp,q0,q1)   \n",
    "def F1(qp,q0,q1):\n",
    "    F2(qp,q0,q1)\n",
    "    qp.sdg(q0)"
   ]
  },
  {
   "cell_type": "code",
   "execution_count": null,
   "id": "e6aef111",
   "metadata": {},
   "outputs": [],
   "source": [
    "from math import pi\n",
    "\n",
    "# ROTATIONAL GATES\n",
    "def RZ(qp,th,q0):\n",
    "    qp.u1(-th,q0)\n",
    "def RY(qp,th,q0):\n",
    "    qp.u3(th,0.,0.,q0)\n",
    "def RX(qp,th,q0):\n",
    "    qp.u3(th,0.,pi,q0)\n",
    "\n",
    "# CRX (Controlled-RX)\n",
    "# control qubit: q0\n",
    "# target qubit: q1\n",
    "def CRX(qp,th,q0,q1):\n",
    "    RZ(qp,pi/2.0,q1)\n",
    "    RY(qp,th/2.0,q1)\n",
    "    qp.cx(q0,q1)\n",
    "    RY(qp,-th/2.0,q1)\n",
    "    qp.cx(q0,q1)\n",
    "    RZ(qp,-pi/2.0,q1)\n",
    "# Bogoliubov B_1\n",
    "def B(qp,thk,q0,q1):\n",
    "    qp.x(q1)\n",
    "    qp.cx(q1,q0)\n",
    "    CRX(qp,thk,q0,q1)\n",
    "    qp.cx(q1,q0)\n",
    "    qp.x(q1)"
   ]
  },
  {
   "cell_type": "code",
   "execution_count": null,
   "id": "ed558eb4",
   "metadata": {},
   "outputs": [],
   "source": [
    "# This circuit can be implemented in ibmqx5 using qubits (q0,q1,q2,q3)=(6,7,11,10)\n",
    "# It can also be implemented between other qubits or in ibqmx2 and ibqmx4 using fermionic SWAPS\n",
    "# For instance, the lines commented correspond to the implementations:\n",
    "# ibmqx2 (q0,q1,q2,q3)=(4,2,0,1)\n",
    "# ibmqx4 (q0,q1,q2,q3)=(3,2,1,0)\n",
    "def Udisg(qc,lam,q0,q1,q2,q3):\n",
    "    k=1\n",
    "    n=4\n",
    "    th1=-np.arccos((lam-np.cos(2*pi*k/n))/np.sqrt((lam-np.cos(2*pi*k/n))**2+np.sin(2*pi*k/n)**2))\n",
    "    B(Udis,th1,q0,q1)\n",
    "    F1(Udis,q0,q1)\n",
    "    F0(Udis,q2,q3)\n",
    "    #fSWAP(Udis,q2,q1) # for ibmqx2\n",
    "    #fSWAP(Udis,q1,q2) # for ibmqx4\n",
    "    F0(Udis,q0,q2)\n",
    "    F0(Udis,q1,q3)\n",
    "    #fSWAP(Udis,q2,q1) # for ibmqx2\n",
    "    #fSWAP(Udis,q1,q2) # for ibmqx4\n",
    "\n",
    "def Initial(qc,lam,q0,q1,q2,q3):\n",
    "    if lam <1:\n",
    "        qc.x(q3)\n",
    "\n",
    "def Ising(qc,ini,udis,mes,lam,q0,q1,q2,q3,c0,c1,c2,c3):\n",
    "    Initial(ini,lam,q0,q1,q2,q3)\n",
    "    Udisg(udis,lam,q0,q1,q2,q3)\n",
    "    mes.measure(q0,c0)\n",
    "    mes.measure(q1,c1)\n",
    "    mes.measure(q2,c2)\n",
    "    mes.measure(q3,c3)\n",
    "    qc.add_circuit(\"Ising\",ini+udis+mes)"
   ]
  },
  {
   "cell_type": "code",
   "execution_count": null,
   "id": "1cb5ec83",
   "metadata": {},
   "outputs": [],
   "source": [
    "#import sys  \n",
    "#sys.path.append(\"../../\")   \n",
    "# importing the QISKit\n",
    "#import Qconfig  \n",
    "# useful additional packages\n",
    "import matplotlib.pyplot as plt\n",
    "%matplotlib inline\n",
    "import numpy as np\n",
    "from scipy import linalg as la"
   ]
  },
  {
   "cell_type": "code",
   "execution_count": 1,
   "id": "c1c3985f",
   "metadata": {},
   "outputs": [
    {
     "ename": "ImportError",
     "evalue": "cannot import name 'QuantumCircuit' from 'qiskit' (unknown location)",
     "output_type": "error",
     "traceback": [
      "\u001b[0;31m---------------------------------------------------------------------------\u001b[0m",
      "\u001b[0;31mImportError\u001b[0m                               Traceback (most recent call last)",
      "Cell \u001b[0;32mIn[1], line 1\u001b[0m\n\u001b[0;32m----> 1\u001b[0m \u001b[38;5;28;01mfrom\u001b[39;00m \u001b[38;5;21;01mqiskit\u001b[39;00m \u001b[38;5;28;01mimport\u001b[39;00m QuantumCircuit\n\u001b[1;32m      2\u001b[0m \u001b[38;5;28;01mfrom\u001b[39;00m \u001b[38;5;21;01mqiskit\u001b[39;00m\u001b[38;5;21;01m.\u001b[39;00m\u001b[38;5;21;01mopflow\u001b[39;00m \u001b[38;5;28;01mimport\u001b[39;00m I, X, Y, Z, PauliSumOp\n",
      "\u001b[0;31mImportError\u001b[0m: cannot import name 'QuantumCircuit' from 'qiskit' (unknown location)"
     ]
    }
   ],
   "source": []
  },
  {
   "cell_type": "code",
   "execution_count": null,
   "id": "e0400b80",
   "metadata": {},
   "outputs": [],
   "source": []
  },
  {
   "cell_type": "code",
   "execution_count": null,
   "id": "bd882e9b",
   "metadata": {},
   "outputs": [],
   "source": []
  },
  {
   "cell_type": "code",
   "execution_count": null,
   "id": "486dbd27",
   "metadata": {},
   "outputs": [],
   "source": []
  },
  {
   "cell_type": "code",
   "execution_count": null,
   "id": "d343aba0",
   "metadata": {},
   "outputs": [],
   "source": []
  },
  {
   "cell_type": "code",
   "execution_count": null,
   "id": "fcc11c0f",
   "metadata": {},
   "outputs": [],
   "source": []
  }
 ],
 "metadata": {
  "kernelspec": {
   "display_name": "Python 3 (ipykernel)",
   "language": "python",
   "name": "python3"
  },
  "language_info": {
   "codemirror_mode": {
    "name": "ipython",
    "version": 3
   },
   "file_extension": ".py",
   "mimetype": "text/x-python",
   "name": "python",
   "nbconvert_exporter": "python",
   "pygments_lexer": "ipython3",
   "version": "3.10.9"
  }
 },
 "nbformat": 4,
 "nbformat_minor": 5
}
