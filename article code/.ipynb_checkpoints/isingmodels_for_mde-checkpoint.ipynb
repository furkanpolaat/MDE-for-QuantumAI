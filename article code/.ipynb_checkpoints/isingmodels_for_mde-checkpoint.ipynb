{
 "cells": [
  {
   "cell_type": "code",
   "execution_count": null,
   "id": "4057bca9-07ac-492d-b0ef-7f987877f5f7",
   "metadata": {},
   "outputs": [],
   "source": [
    "\n"
   ]
  },
  {
   "cell_type": "code",
   "execution_count": null,
   "id": "510ffa95-bcef-4fba-9aee-ecc7dfbfc169",
   "metadata": {},
   "outputs": [],
   "source": []
  },
  {
   "cell_type": "code",
   "execution_count": null,
   "id": "14109164-b106-4b73-9c0a-b9bbd2ee728b",
   "metadata": {},
   "outputs": [],
   "source": [
    "#Gate-based Circular model \n",
    "\n",
    "from qiskit import QuantumRegister, ClassicalRegister, QuantumCircuit\n",
    "from numpy import pi\n",
    "\n",
    "# Initialize quantum and classical registers with 4 qubits\n",
    "qreg_q = QuantumRegister(4, 'q')\n",
    "creg_c = ClassicalRegister(4, 'c')\n",
    "circuit = QuantumCircuit(qreg_q, creg_c)\n",
    "\n",
    "# Apply Hadamard gate to all qubits to create superpositions\n",
    "circuit.h(qreg_q[0])\n",
    "circuit.h(qreg_q[1])\n",
    "circuit.h(qreg_q[2])\n",
    "circuit.h(qreg_q[3])\n",
    "\n",
    "# Apply ZZ interaction between qubits with circular connections\n",
    "# Here we use Rz gates followed by Cz gates to simulate ZZ interactions\n",
    "# The Rz rotation angle for the interaction is 2*J because the ZZ interaction\n",
    "# is simulated by a controlled phase rotation in Qiskit, where J is the coupling constant\n",
    "\n",
    "# Apply ZZ interaction between qubits 0 and 1\n",
    "circuit.rz(2*pi*1, qreg_q[1])\n",
    "circuit.cz(qreg_q[0], qreg_q[1])\n",
    "\n",
    "# Apply ZZ interaction between qubits 1 and 2\n",
    "circuit.rz(2*pi*1, qreg_q[2])\n",
    "circuit.cz(qreg_q[1], qreg_q[2])\n",
    "\n",
    "# Apply ZZ interaction between qubits 2 and 3\n",
    "circuit.rz(2*pi*1, qreg_q[3])\n",
    "circuit.cz(qreg_q[2], qreg_q[3])\n",
    "\n",
    "# Apply ZZ interaction between qubits 3 and 0\n",
    "circuit.rz(2*pi*1, qreg_q[0])\n",
    "circuit.cz(qreg_q[3], qreg_q[0])\n",
    "\n",
    "# Apply an external magnetic field to all qubits\n",
    "# The Rz rotation angle for the magnetic field is h\n",
    "circuit.rz(pi*0.5, qreg_q[0])\n",
    "circuit.rz(pi*0.5, qreg_q[1])\n",
    "circuit.rz(pi*0.5, qreg_q[2])\n",
    "circuit.rz(pi*0.5, qreg_q[3])\n",
    "\n",
    "# Measure all qubits\n",
    "circuit.measure(qreg_q[0], creg_c[0])\n",
    "circuit.measure(qreg_q[1], creg_c[1])\n",
    "circuit.measure(qreg_q[2], creg_c[2])\n",
    "circuit.measure(qreg_q[3], creg_c[3])\n",
    "\n",
    "# Draw the circuit\n",
    "circuit.draw('mpl')\n"
   ]
  },
  {
   "cell_type": "code",
   "execution_count": null,
   "id": "a5e3a612",
   "metadata": {},
   "outputs": [],
   "source": [
    "from qiskit.transpiler import PassManager\n",
    "from qiskit.transpiler.preset_passmanagers import generate_preset_pass_manager\n",
    "from qiskit.transpiler.passes import ALAPScheduleAnalysis, PadDynamicalDecoupling, ConstrainedReschedule\n",
    "from qiskit.circuit.library import XGate\n",
    "\n",
    "# Define the Ising model parameters\n",
    "J = 1  # Coupling strength\n",
    "h = 0.5  # External magnetic field\n",
    "\n",
    "# Create a quantum circuit with 4 qubits\n",
    "qc = QuantumCircuit(4)\n",
    "\n",
    "# Add RZZ gates for the couplings between qubits\n",
    "# and RX gates for the external magnetic fields\n",
    "for i in range(4):\n",
    "    qc.rzz(2 * J, i, (i + 1) % 4)  # RZZ gate for coupling\n",
    "    qc.rx(2 * h, i)  # RX gate for external magnetic field\n",
    "\n",
    "qc.draw('mpl')\n"
   ]
  },
  {
   "cell_type": "code",
   "execution_count": null,
   "id": "25b2797b-8a2e-4de5-abc1-2875dd6763f3",
   "metadata": {},
   "outputs": [],
   "source": [
    "from qiskit import QuantumRegister, ClassicalRegister, QuantumCircuit\n",
    "from numpy import pi\n",
    "\n",
    "# Linear entanglement setup\n",
    "qreg_q = QuantumRegister(4, 'q')\n",
    "creg_c = ClassicalRegister(4, 'c')\n",
    "linear_circuit = QuantumCircuit(qreg_q, creg_c)\n",
    "\n",
    "# Apply Hadamard gate to all qubits\n",
    "for i in range(4):\n",
    "    linear_circuit.h(qreg_q[i])\n",
    "\n",
    "# Apply ZZ interactions linearly without circular wrap-around\n",
    "# Adjustments are made to remove the last CZ interaction that completes the circle\n",
    "for i in range(3):  # Only go up to the third qubit for linear entanglement\n",
    "    linear_circuit.rz(2*pi*1, qreg_q[i+1])\n",
    "    linear_circuit.cz(qreg_q[i], qreg_q[i+1])\n",
    "\n",
    "# Apply an external magnetic field to all qubits\n",
    "for i in range(4):\n",
    "    linear_circuit.rz(pi*0.5, qreg_q[i])\n",
    "\n",
    "# Measure all qubits\n",
    "linear_circuit.measure(qreg_q, creg_c)\n",
    "\n",
    "# Draw the linearly entangled circuit\n",
    "linear_circuit.draw('mpl')\n"
   ]
  },
  {
   "cell_type": "code",
   "execution_count": null,
   "id": "2918fdd0-9970-4ee7-acd6-7d645d8081f8",
   "metadata": {},
   "outputs": [],
   "source": [
    "# Fully entangled setup\n",
    "qreg_q = QuantumRegister(4, 'q')\n",
    "creg_c = ClassicalRegister(4, 'c')\n",
    "full_circuit = QuantumCircuit(qreg_q, creg_c)\n",
    "\n",
    "# Apply Hadamard gate to all qubits\n",
    "for i in range(4):\n",
    "    full_circuit.h(qreg_q[i])\n",
    "\n",
    "# Apply ZZ interactions fully by entangling each qubit with every other qubit\n",
    "for i in range(4):\n",
    "    for j in range(i+1, 4):\n",
    "        full_circuit.rz(2*pi*1, qreg_q[j])\n",
    "        full_circuit.cz(qreg_q[i], qreg_q[j])\n",
    "\n",
    "# Apply an external magnetic field to all qubits\n",
    "for i in range(4):\n",
    "    full_circuit.rz(pi*0.5, qreg_q[i])\n",
    "\n",
    "# Measure all qubits\n",
    "full_circuit.measure(qreg_q, creg_c)\n",
    "\n",
    "# Draw the fully entangled circuit\n",
    "full_circuit.draw('mpl')"
   ]
  },
  {
   "cell_type": "markdown",
   "id": "2cd6a9ac",
   "metadata": {},
   "source": [
    "# Dwave"
   ]
  },
  {
   "cell_type": "code",
   "execution_count": null,
   "id": "74cf124f",
   "metadata": {
    "scrolled": true
   },
   "outputs": [],
   "source": []
  },
  {
   "cell_type": "code",
   "execution_count": null,
   "id": "79f2d3f0",
   "metadata": {
    "scrolled": true
   },
   "outputs": [],
   "source": [
    "pip install --upgrade dwave-ocean-sdk\n",
    "pip install dwave-inspector\n",
    "pip install dwave-inspectorapp --extra-index=https://pypi.dwavesys.com/simple"
   ]
  },
  {
   "cell_type": "code",
   "execution_count": null,
   "id": "11610c0c",
   "metadata": {},
   "outputs": [],
   "source": []
  },
  {
   "cell_type": "markdown",
   "id": "38dfec33-ecfd-41a6-b119-33f52fcd4e31",
   "metadata": {},
   "source": [
    "# DWAVE Circular-entangled model"
   ]
  },
  {
   "cell_type": "code",
   "execution_count": 3,
   "id": "cd52a9a7-9fbf-4a0a-9b07-9317596ecb45",
   "metadata": {},
   "outputs": [
    {
     "ename": "ValueError",
     "evalue": "API token not defined",
     "output_type": "error",
     "traceback": [
      "\u001b[0;31m---------------------------------------------------------------------------\u001b[0m",
      "\u001b[0;31mValueError\u001b[0m                                Traceback (most recent call last)",
      "Cell \u001b[0;32mIn[3], line 14\u001b[0m\n\u001b[1;32m     11\u001b[0m J \u001b[38;5;241m=\u001b[39m {(\u001b[38;5;241m0\u001b[39m, \u001b[38;5;241m1\u001b[39m): \u001b[38;5;241m1\u001b[39m, (\u001b[38;5;241m1\u001b[39m, \u001b[38;5;241m2\u001b[39m): \u001b[38;5;241m1\u001b[39m, (\u001b[38;5;241m2\u001b[39m, \u001b[38;5;241m3\u001b[39m): \u001b[38;5;241m1\u001b[39m, (\u001b[38;5;241m3\u001b[39m, \u001b[38;5;241m0\u001b[39m): \u001b[38;5;241m1\u001b[39m}  \u001b[38;5;66;03m# coupler biases between qubits\u001b[39;00m\n\u001b[1;32m     13\u001b[0m \u001b[38;5;66;03m# Get a sampler that can solve Ising models\u001b[39;00m\n\u001b[0;32m---> 14\u001b[0m sampler_1 \u001b[38;5;241m=\u001b[39m EmbeddingComposite(\u001b[43mDWaveSampler\u001b[49m\u001b[43m(\u001b[49m\u001b[43m)\u001b[49m)\n\u001b[1;32m     16\u001b[0m \u001b[38;5;66;03m# Sample the Ising model\u001b[39;00m\n\u001b[1;32m     17\u001b[0m sampleset_1 \u001b[38;5;241m=\u001b[39m sampler_1\u001b[38;5;241m.\u001b[39msample_ising(h, J, num_reads\u001b[38;5;241m=\u001b[39m\u001b[38;5;241m100\u001b[39m)\n",
      "File \u001b[0;32m~/anaconda3/envs/isingmodel/lib/python3.10/site-packages/dwave/system/samplers/dwave_sampler.py:183\u001b[0m, in \u001b[0;36mDWaveSampler.__init__\u001b[0;34m(self, failover, retry_interval, **config)\u001b[0m\n\u001b[1;32m    180\u001b[0m \u001b[38;5;28mself\u001b[39m\u001b[38;5;241m.\u001b[39mretry_interval \u001b[38;5;241m=\u001b[39m retry_interval\n\u001b[1;32m    181\u001b[0m \u001b[38;5;28mself\u001b[39m\u001b[38;5;241m.\u001b[39m_solver_penalty \u001b[38;5;241m=\u001b[39m defaultdict(\u001b[38;5;28mint\u001b[39m)\n\u001b[0;32m--> 183\u001b[0m \u001b[38;5;28mself\u001b[39m\u001b[38;5;241m.\u001b[39mclient \u001b[38;5;241m=\u001b[39m \u001b[43mClient\u001b[49m\u001b[38;5;241;43m.\u001b[39;49m\u001b[43mfrom_config\u001b[49m\u001b[43m(\u001b[49m\u001b[38;5;241;43m*\u001b[39;49m\u001b[38;5;241;43m*\u001b[39;49m\u001b[43mconfig\u001b[49m\u001b[43m)\u001b[49m\n\u001b[1;32m    184\u001b[0m \u001b[38;5;28mself\u001b[39m\u001b[38;5;241m.\u001b[39msolver \u001b[38;5;241m=\u001b[39m \u001b[38;5;28mself\u001b[39m\u001b[38;5;241m.\u001b[39m_get_solver(penalty\u001b[38;5;241m=\u001b[39m\u001b[38;5;28mself\u001b[39m\u001b[38;5;241m.\u001b[39m_solver_penalty)\n",
      "File \u001b[0;32m~/anaconda3/envs/isingmodel/lib/python3.10/site-packages/dwave/cloud/client/base.py:430\u001b[0m, in \u001b[0;36mClient.from_config\u001b[0;34m(cls, config_file, profile, client, **kwargs)\u001b[0m\n\u001b[1;32m    427\u001b[0m _client \u001b[38;5;241m=\u001b[39m config\u001b[38;5;241m.\u001b[39mpop(\u001b[38;5;124m'\u001b[39m\u001b[38;5;124mclient\u001b[39m\u001b[38;5;124m'\u001b[39m, \u001b[38;5;28;01mNone\u001b[39;00m) \u001b[38;5;129;01mor\u001b[39;00m \u001b[38;5;124m'\u001b[39m\u001b[38;5;124mbase\u001b[39m\u001b[38;5;124m'\u001b[39m\n\u001b[1;32m    429\u001b[0m logger\u001b[38;5;241m.\u001b[39mdebug(\u001b[38;5;124m\"\u001b[39m\u001b[38;5;124mCreating \u001b[39m\u001b[38;5;132;01m%s\u001b[39;00m\u001b[38;5;124m.Client() with: \u001b[39m\u001b[38;5;132;01m%r\u001b[39;00m\u001b[38;5;124m\"\u001b[39m, _client, config)\n\u001b[0;32m--> 430\u001b[0m \u001b[38;5;28;01mreturn\u001b[39;00m \u001b[43m_clients\u001b[49m\u001b[43m[\u001b[49m\u001b[43m_client\u001b[49m\u001b[43m]\u001b[49m\u001b[43m(\u001b[49m\u001b[38;5;241;43m*\u001b[39;49m\u001b[38;5;241;43m*\u001b[39;49m\u001b[43mconfig\u001b[49m\u001b[43m)\u001b[49m\n",
      "File \u001b[0;32m~/anaconda3/envs/isingmodel/lib/python3.10/site-packages/dwave/cloud/events.py:105\u001b[0m, in \u001b[0;36mdispatches_events.__call__.<locals>.wrapped\u001b[0;34m(*pargs, **kwargs)\u001b[0m\n\u001b[1;32m    103\u001b[0m dispatch_event(\u001b[38;5;28mself\u001b[39m\u001b[38;5;241m.\u001b[39mbefore_eventname, obj\u001b[38;5;241m=\u001b[39mobj, args\u001b[38;5;241m=\u001b[39margs)\n\u001b[1;32m    104\u001b[0m \u001b[38;5;28;01mtry\u001b[39;00m:\n\u001b[0;32m--> 105\u001b[0m     rval \u001b[38;5;241m=\u001b[39m \u001b[43mfn\u001b[49m\u001b[43m(\u001b[49m\u001b[38;5;241;43m*\u001b[39;49m\u001b[43mpargs\u001b[49m\u001b[43m,\u001b[49m\u001b[43m \u001b[49m\u001b[38;5;241;43m*\u001b[39;49m\u001b[38;5;241;43m*\u001b[39;49m\u001b[43mkwargs\u001b[49m\u001b[43m)\u001b[49m\n\u001b[1;32m    106\u001b[0m \u001b[38;5;28;01mexcept\u001b[39;00m \u001b[38;5;167;01mException\u001b[39;00m \u001b[38;5;28;01mas\u001b[39;00m exc:\n\u001b[1;32m    107\u001b[0m     dispatch_event(\u001b[38;5;28mself\u001b[39m\u001b[38;5;241m.\u001b[39mafter_eventname, obj\u001b[38;5;241m=\u001b[39mobj, args\u001b[38;5;241m=\u001b[39margs, exception\u001b[38;5;241m=\u001b[39mexc)\n",
      "File \u001b[0;32m~/anaconda3/envs/isingmodel/lib/python3.10/site-packages/dwave/cloud/client/base.py:488\u001b[0m, in \u001b[0;36mClient.__init__\u001b[0;34m(self, *args, **kwargs)\u001b[0m\n\u001b[1;32m    485\u001b[0m     \u001b[38;5;28;01mraise\u001b[39;00m \u001b[38;5;167;01mValueError\u001b[39;00m(\u001b[38;5;124m\"\u001b[39m\u001b[38;5;124mAPI endpoint not defined\u001b[39m\u001b[38;5;124m\"\u001b[39m)\n\u001b[1;32m    487\u001b[0m \u001b[38;5;28;01mif\u001b[39;00m \u001b[38;5;129;01mnot\u001b[39;00m \u001b[38;5;28mself\u001b[39m\u001b[38;5;241m.\u001b[39mconfig\u001b[38;5;241m.\u001b[39mtoken:\n\u001b[0;32m--> 488\u001b[0m     \u001b[38;5;28;01mraise\u001b[39;00m \u001b[38;5;167;01mValueError\u001b[39;00m(\u001b[38;5;124m\"\u001b[39m\u001b[38;5;124mAPI token not defined\u001b[39m\u001b[38;5;124m\"\u001b[39m)\n\u001b[1;32m    490\u001b[0m \u001b[38;5;66;03m# Create session for main thread only\u001b[39;00m\n\u001b[1;32m    491\u001b[0m \u001b[38;5;28mself\u001b[39m\u001b[38;5;241m.\u001b[39msession \u001b[38;5;241m=\u001b[39m \u001b[38;5;28mself\u001b[39m\u001b[38;5;241m.\u001b[39mcreate_session()\n",
      "\u001b[0;31mValueError\u001b[0m: API token not defined"
     ]
    }
   ],
   "source": []
  },
  {
   "cell_type": "markdown",
   "id": "ab8c69eb-4a91-4e60-adcb-e0d664d74f79",
   "metadata": {},
   "source": [
    "# DWAVE Linear-entangled model"
   ]
  },
  {
   "cell_type": "code",
   "execution_count": 4,
   "id": "d7b888b7-795c-4c39-95df-cbb7976c3de3",
   "metadata": {},
   "outputs": [
    {
     "ename": "ValueError",
     "evalue": "API token not defined",
     "output_type": "error",
     "traceback": [
      "\u001b[0;31m---------------------------------------------------------------------------\u001b[0m",
      "\u001b[0;31mValueError\u001b[0m                                Traceback (most recent call last)",
      "Cell \u001b[0;32mIn[4], line 12\u001b[0m\n\u001b[1;32m      9\u001b[0m J \u001b[38;5;241m=\u001b[39m {(\u001b[38;5;241m0\u001b[39m, \u001b[38;5;241m1\u001b[39m): \u001b[38;5;241m1\u001b[39m, (\u001b[38;5;241m1\u001b[39m, \u001b[38;5;241m2\u001b[39m): \u001b[38;5;241m1\u001b[39m, (\u001b[38;5;241m2\u001b[39m, \u001b[38;5;241m3\u001b[39m): \u001b[38;5;241m1\u001b[39m}  \u001b[38;5;66;03m# coupler biases between qubits, linearly entangled\u001b[39;00m\n\u001b[1;32m     11\u001b[0m \u001b[38;5;66;03m# Get a sampler that can solve Ising models\u001b[39;00m\n\u001b[0;32m---> 12\u001b[0m sampler \u001b[38;5;241m=\u001b[39m EmbeddingComposite(\u001b[43mDWaveSampler\u001b[49m\u001b[43m(\u001b[49m\u001b[43m)\u001b[49m)\n\u001b[1;32m     14\u001b[0m \u001b[38;5;66;03m# Sample the Ising model\u001b[39;00m\n\u001b[1;32m     15\u001b[0m sampleset \u001b[38;5;241m=\u001b[39m sampler\u001b[38;5;241m.\u001b[39msample_ising(h, J, num_reads\u001b[38;5;241m=\u001b[39m\u001b[38;5;241m100\u001b[39m)\n",
      "File \u001b[0;32m~/anaconda3/envs/isingmodel/lib/python3.10/site-packages/dwave/system/samplers/dwave_sampler.py:183\u001b[0m, in \u001b[0;36mDWaveSampler.__init__\u001b[0;34m(self, failover, retry_interval, **config)\u001b[0m\n\u001b[1;32m    180\u001b[0m \u001b[38;5;28mself\u001b[39m\u001b[38;5;241m.\u001b[39mretry_interval \u001b[38;5;241m=\u001b[39m retry_interval\n\u001b[1;32m    181\u001b[0m \u001b[38;5;28mself\u001b[39m\u001b[38;5;241m.\u001b[39m_solver_penalty \u001b[38;5;241m=\u001b[39m defaultdict(\u001b[38;5;28mint\u001b[39m)\n\u001b[0;32m--> 183\u001b[0m \u001b[38;5;28mself\u001b[39m\u001b[38;5;241m.\u001b[39mclient \u001b[38;5;241m=\u001b[39m \u001b[43mClient\u001b[49m\u001b[38;5;241;43m.\u001b[39;49m\u001b[43mfrom_config\u001b[49m\u001b[43m(\u001b[49m\u001b[38;5;241;43m*\u001b[39;49m\u001b[38;5;241;43m*\u001b[39;49m\u001b[43mconfig\u001b[49m\u001b[43m)\u001b[49m\n\u001b[1;32m    184\u001b[0m \u001b[38;5;28mself\u001b[39m\u001b[38;5;241m.\u001b[39msolver \u001b[38;5;241m=\u001b[39m \u001b[38;5;28mself\u001b[39m\u001b[38;5;241m.\u001b[39m_get_solver(penalty\u001b[38;5;241m=\u001b[39m\u001b[38;5;28mself\u001b[39m\u001b[38;5;241m.\u001b[39m_solver_penalty)\n",
      "File \u001b[0;32m~/anaconda3/envs/isingmodel/lib/python3.10/site-packages/dwave/cloud/client/base.py:430\u001b[0m, in \u001b[0;36mClient.from_config\u001b[0;34m(cls, config_file, profile, client, **kwargs)\u001b[0m\n\u001b[1;32m    427\u001b[0m _client \u001b[38;5;241m=\u001b[39m config\u001b[38;5;241m.\u001b[39mpop(\u001b[38;5;124m'\u001b[39m\u001b[38;5;124mclient\u001b[39m\u001b[38;5;124m'\u001b[39m, \u001b[38;5;28;01mNone\u001b[39;00m) \u001b[38;5;129;01mor\u001b[39;00m \u001b[38;5;124m'\u001b[39m\u001b[38;5;124mbase\u001b[39m\u001b[38;5;124m'\u001b[39m\n\u001b[1;32m    429\u001b[0m logger\u001b[38;5;241m.\u001b[39mdebug(\u001b[38;5;124m\"\u001b[39m\u001b[38;5;124mCreating \u001b[39m\u001b[38;5;132;01m%s\u001b[39;00m\u001b[38;5;124m.Client() with: \u001b[39m\u001b[38;5;132;01m%r\u001b[39;00m\u001b[38;5;124m\"\u001b[39m, _client, config)\n\u001b[0;32m--> 430\u001b[0m \u001b[38;5;28;01mreturn\u001b[39;00m \u001b[43m_clients\u001b[49m\u001b[43m[\u001b[49m\u001b[43m_client\u001b[49m\u001b[43m]\u001b[49m\u001b[43m(\u001b[49m\u001b[38;5;241;43m*\u001b[39;49m\u001b[38;5;241;43m*\u001b[39;49m\u001b[43mconfig\u001b[49m\u001b[43m)\u001b[49m\n",
      "File \u001b[0;32m~/anaconda3/envs/isingmodel/lib/python3.10/site-packages/dwave/cloud/events.py:105\u001b[0m, in \u001b[0;36mdispatches_events.__call__.<locals>.wrapped\u001b[0;34m(*pargs, **kwargs)\u001b[0m\n\u001b[1;32m    103\u001b[0m dispatch_event(\u001b[38;5;28mself\u001b[39m\u001b[38;5;241m.\u001b[39mbefore_eventname, obj\u001b[38;5;241m=\u001b[39mobj, args\u001b[38;5;241m=\u001b[39margs)\n\u001b[1;32m    104\u001b[0m \u001b[38;5;28;01mtry\u001b[39;00m:\n\u001b[0;32m--> 105\u001b[0m     rval \u001b[38;5;241m=\u001b[39m \u001b[43mfn\u001b[49m\u001b[43m(\u001b[49m\u001b[38;5;241;43m*\u001b[39;49m\u001b[43mpargs\u001b[49m\u001b[43m,\u001b[49m\u001b[43m \u001b[49m\u001b[38;5;241;43m*\u001b[39;49m\u001b[38;5;241;43m*\u001b[39;49m\u001b[43mkwargs\u001b[49m\u001b[43m)\u001b[49m\n\u001b[1;32m    106\u001b[0m \u001b[38;5;28;01mexcept\u001b[39;00m \u001b[38;5;167;01mException\u001b[39;00m \u001b[38;5;28;01mas\u001b[39;00m exc:\n\u001b[1;32m    107\u001b[0m     dispatch_event(\u001b[38;5;28mself\u001b[39m\u001b[38;5;241m.\u001b[39mafter_eventname, obj\u001b[38;5;241m=\u001b[39mobj, args\u001b[38;5;241m=\u001b[39margs, exception\u001b[38;5;241m=\u001b[39mexc)\n",
      "File \u001b[0;32m~/anaconda3/envs/isingmodel/lib/python3.10/site-packages/dwave/cloud/client/base.py:488\u001b[0m, in \u001b[0;36mClient.__init__\u001b[0;34m(self, *args, **kwargs)\u001b[0m\n\u001b[1;32m    485\u001b[0m     \u001b[38;5;28;01mraise\u001b[39;00m \u001b[38;5;167;01mValueError\u001b[39;00m(\u001b[38;5;124m\"\u001b[39m\u001b[38;5;124mAPI endpoint not defined\u001b[39m\u001b[38;5;124m\"\u001b[39m)\n\u001b[1;32m    487\u001b[0m \u001b[38;5;28;01mif\u001b[39;00m \u001b[38;5;129;01mnot\u001b[39;00m \u001b[38;5;28mself\u001b[39m\u001b[38;5;241m.\u001b[39mconfig\u001b[38;5;241m.\u001b[39mtoken:\n\u001b[0;32m--> 488\u001b[0m     \u001b[38;5;28;01mraise\u001b[39;00m \u001b[38;5;167;01mValueError\u001b[39;00m(\u001b[38;5;124m\"\u001b[39m\u001b[38;5;124mAPI token not defined\u001b[39m\u001b[38;5;124m\"\u001b[39m)\n\u001b[1;32m    490\u001b[0m \u001b[38;5;66;03m# Create session for main thread only\u001b[39;00m\n\u001b[1;32m    491\u001b[0m \u001b[38;5;28mself\u001b[39m\u001b[38;5;241m.\u001b[39msession \u001b[38;5;241m=\u001b[39m \u001b[38;5;28mself\u001b[39m\u001b[38;5;241m.\u001b[39mcreate_session()\n",
      "\u001b[0;31mValueError\u001b[0m: API token not defined"
     ]
    }
   ],
   "source": [
    "#DWAVE linear-entangled ising model \n",
    "\n",
    "from dwave.system import DWaveSampler, EmbeddingComposite\n",
    "import dimod\n",
    "import dwave.inspector\n",
    "\n",
    "# Define the Ising model parameters for a linear chain\n",
    "h = {0: 1, 1: 1, 2: 1, 3: 1}  # external magnetic fields\n",
    "J = {(0, 1): 1, (1, 2): 1, (2, 3): 1}  # coupler biases between qubits, linearly entangled\n",
    "\n",
    "# Get a sampler that can solve Ising models\n",
    "sampler = EmbeddingComposite(DWaveSampler())\n",
    "\n",
    "# Sample the Ising model\n",
    "sampleset = sampler.sample_ising(h, J, num_reads=100)\n",
    "\n",
    "# Use the D-Wave Inspector to visualize the problem and the solution\n",
    "dwave.inspector.show(sampleset)\n",
    "# Find and print the ground state energy\n",
    "\n",
    "# The lowest energy sample is considered the ground state\n",
    "ground_state_energy = sampleset.first.energy\n",
    "print(\"Ground State Energy:\", ground_state_energy)\n",
    "\n",
    "# Optionally, print the sample corresponding to the ground state\n",
    "ground_state_sample = sampleset.first.sample\n",
    "print(\"Ground State Sample:\", ground_state_sample)\n"
   ]
  },
  {
   "cell_type": "markdown",
   "id": "1c038f88-80ea-4f80-bbff-faa83a05449e",
   "metadata": {},
   "source": [
    "# DWAVE Full-entangled model"
   ]
  },
  {
   "cell_type": "code",
   "execution_count": 1,
   "id": "0f117e76-bdcb-490c-ac27-cba4d8a30213",
   "metadata": {},
   "outputs": [
    {
     "name": "stderr",
     "output_type": "stream",
     "text": [
      "Exception in thread Thread-5:\n",
      "Traceback (most recent call last):\n",
      "  File \"/Users/furkanpolat/anaconda3/envs/isingmodel/lib/python3.10/threading.py\", line 1016, in _bootstrap_inner\n",
      "    self.run()\n",
      "  File \"/Users/furkanpolat/anaconda3/envs/isingmodel/lib/python3.10/site-packages/dwave/inspector/server.py\", line 158, in run\n",
      "    self.server.serve_forever()\n",
      "  File \"/Users/furkanpolat/anaconda3/envs/isingmodel/lib/python3.10/site-packages/dwave/inspector/server.py\", line 144, in server\n",
      "    self._server = self._make_server()\n",
      "  File \"/Users/furkanpolat/anaconda3/envs/isingmodel/lib/python3.10/site-packages/dwave/inspector/server.py\", line 132, in _make_server\n",
      "    return self._safe_make_server(self.host, self.base_port, self.app)\n",
      "  File \"/Users/furkanpolat/anaconda3/envs/isingmodel/lib/python3.10/site-packages/dwave/inspector/server.py\", line 108, in _safe_make_server\n",
      "    return make_server(host, port, app,\n",
      "  File \"/Users/furkanpolat/anaconda3/envs/isingmodel/lib/python3.10/wsgiref/simple_server.py\", line 154, in make_server\n",
      "    server = server_class((host, port), handler_class)\n",
      "  File \"/Users/furkanpolat/anaconda3/envs/isingmodel/lib/python3.10/socketserver.py\", line 452, in __init__\n",
      "    self.server_bind()\n",
      "  File \"/Users/furkanpolat/anaconda3/envs/isingmodel/lib/python3.10/wsgiref/simple_server.py\", line 50, in server_bind\n",
      "    HTTPServer.server_bind(self)\n",
      "  File \"/Users/furkanpolat/anaconda3/envs/isingmodel/lib/python3.10/http/server.py\", line 137, in server_bind\n",
      "    socketserver.TCPServer.server_bind(self)\n",
      "  File \"/Users/furkanpolat/anaconda3/envs/isingmodel/lib/python3.10/socketserver.py\", line 466, in server_bind\n",
      "    self.socket.bind(self.server_address)\n",
      "OSError: [Errno 48] Address already in use\n"
     ]
    },
    {
     "ename": "OSError",
     "evalue": "[Errno 48] Address already in use",
     "output_type": "error",
     "traceback": [
      "\u001b[0;31m---------------------------------------------------------------------------\u001b[0m",
      "\u001b[0;31mOSError\u001b[0m                                   Traceback (most recent call last)",
      "Cell \u001b[0;32mIn[1], line 22\u001b[0m\n\u001b[1;32m     19\u001b[0m sampleset \u001b[38;5;241m=\u001b[39m sampler\u001b[38;5;241m.\u001b[39msample_ising(h, J, num_reads\u001b[38;5;241m=\u001b[39m\u001b[38;5;241m100\u001b[39m)\n\u001b[1;32m     21\u001b[0m \u001b[38;5;66;03m# Use the D-Wave Inspector to visualize the problem and the solution\u001b[39;00m\n\u001b[0;32m---> 22\u001b[0m \u001b[43mdwave\u001b[49m\u001b[38;5;241;43m.\u001b[39;49m\u001b[43minspector\u001b[49m\u001b[38;5;241;43m.\u001b[39;49m\u001b[43mshow\u001b[49m\u001b[43m(\u001b[49m\u001b[43msampleset\u001b[49m\u001b[43m)\u001b[49m\n\u001b[1;32m     24\u001b[0m \u001b[38;5;66;03m# Find and print the ground state energy\u001b[39;00m\n\u001b[1;32m     25\u001b[0m \u001b[38;5;66;03m# The lowest energy sample is considered the ground state\u001b[39;00m\n\u001b[1;32m     26\u001b[0m ground_state_energy \u001b[38;5;241m=\u001b[39m sampleset\u001b[38;5;241m.\u001b[39mfirst\u001b[38;5;241m.\u001b[39menergy\n",
      "File \u001b[0;32m~/anaconda3/envs/isingmodel/lib/python3.10/site-packages/dwave/inspector/__init__.py:192\u001b[0m, in \u001b[0;36mshow\u001b[0;34m(*args, **kwargs)\u001b[0m\n\u001b[1;32m    190\u001b[0m data \u001b[38;5;241m=\u001b[39m from_objects(\u001b[38;5;241m*\u001b[39margs, \u001b[38;5;241m*\u001b[39m\u001b[38;5;241m*\u001b[39mkwargs)\n\u001b[1;32m    191\u001b[0m id_ \u001b[38;5;241m=\u001b[39m push_inspector_data(data)\n\u001b[0;32m--> 192\u001b[0m \u001b[38;5;28;01mreturn\u001b[39;00m \u001b[43mopen_problem\u001b[49m\u001b[43m(\u001b[49m\u001b[43mid_\u001b[49m\u001b[43m,\u001b[49m\u001b[43m \u001b[49m\u001b[43mblock\u001b[49m\u001b[38;5;241;43m=\u001b[39;49m\u001b[43mblock\u001b[49m\u001b[43m,\u001b[49m\u001b[43m \u001b[49m\u001b[43mtimeout\u001b[49m\u001b[38;5;241;43m=\u001b[39;49m\u001b[43mtimeout\u001b[49m\u001b[43m)\u001b[49m\n",
      "File \u001b[0;32m~/anaconda3/envs/isingmodel/lib/python3.10/site-packages/dwave/inspector/__init__.py:95\u001b[0m, in \u001b[0;36mopen_problem\u001b[0;34m(problem_id, block, timeout)\u001b[0m\n\u001b[1;32m     92\u001b[0m \u001b[38;5;28;01mif\u001b[39;00m \u001b[38;5;28misinstance\u001b[39m(block, \u001b[38;5;28mstr\u001b[39m):\n\u001b[1;32m     93\u001b[0m     block \u001b[38;5;241m=\u001b[39m Block(block\u001b[38;5;241m.\u001b[39mlower())\n\u001b[0;32m---> 95\u001b[0m \u001b[43mapp_server\u001b[49m\u001b[38;5;241;43m.\u001b[39;49m\u001b[43mensure_started\u001b[49m\u001b[43m(\u001b[49m\u001b[43m)\u001b[49m\n\u001b[1;32m     96\u001b[0m url \u001b[38;5;241m=\u001b[39m app_server\u001b[38;5;241m.\u001b[39mget_inspect_url(problem_id)\n\u001b[1;32m     98\u001b[0m external_url \u001b[38;5;241m=\u001b[39m rewrite_url(url)\n",
      "File \u001b[0;32m~/anaconda3/envs/isingmodel/lib/python3.10/site-packages/dwave/inspector/server.py:193\u001b[0m, in \u001b[0;36mWSGIAsyncServer.ensure_started\u001b[0;34m(self)\u001b[0m\n\u001b[1;32m    191\u001b[0m \u001b[38;5;28;01mif\u001b[39;00m \u001b[38;5;129;01mnot\u001b[39;00m \u001b[38;5;28mself\u001b[39m\u001b[38;5;241m.\u001b[39mis_alive():\n\u001b[1;32m    192\u001b[0m     \u001b[38;5;28mself\u001b[39m\u001b[38;5;241m.\u001b[39mstart()\n\u001b[0;32m--> 193\u001b[0m     \u001b[38;5;28;01mreturn\u001b[39;00m \u001b[38;5;28;43mself\u001b[39;49m\u001b[38;5;241;43m.\u001b[39;49m\u001b[43m_ensure_accessible\u001b[49m\u001b[43m(\u001b[49m\u001b[43m)\u001b[49m\n\u001b[1;32m    195\u001b[0m \u001b[38;5;28;01mreturn\u001b[39;00m \u001b[38;5;28;01mTrue\u001b[39;00m\n",
      "File \u001b[0;32m~/anaconda3/envs/isingmodel/lib/python3.10/site-packages/dwave/inspector/server.py:179\u001b[0m, in \u001b[0;36mWSGIAsyncServer._ensure_accessible\u001b[0;34m(self, sleep, tries, timeout)\u001b[0m\n\u001b[1;32m    176\u001b[0m \u001b[38;5;28;01mdef\u001b[39;00m \u001b[38;5;21m_ensure_accessible\u001b[39m(\u001b[38;5;28mself\u001b[39m, sleep\u001b[38;5;241m=\u001b[39m\u001b[38;5;241m0.1\u001b[39m, tries\u001b[38;5;241m=\u001b[39m\u001b[38;5;241m100\u001b[39m, timeout\u001b[38;5;241m=\u001b[39m\u001b[38;5;241m10\u001b[39m):\n\u001b[1;32m    177\u001b[0m \u001b[38;5;250m    \u001b[39m\u001b[38;5;124;03m\"\"\"Ping the canary URL (`/ping`) until the app becomes accessible.\"\"\"\u001b[39;00m\n\u001b[0;32m--> 179\u001b[0m     canary \u001b[38;5;241m=\u001b[39m \u001b[38;5;124m'\u001b[39m\u001b[38;5;124mhttp://\u001b[39m\u001b[38;5;132;01m{}\u001b[39;00m\u001b[38;5;124m:\u001b[39m\u001b[38;5;132;01m{}\u001b[39;00m\u001b[38;5;124m/ping\u001b[39m\u001b[38;5;124m'\u001b[39m\u001b[38;5;241m.\u001b[39mformat(\u001b[38;5;241m*\u001b[39m\u001b[38;5;28;43mself\u001b[39;49m\u001b[38;5;241;43m.\u001b[39;49m\u001b[43mserver\u001b[49m\u001b[38;5;241m.\u001b[39mserver_address)\n\u001b[1;32m    181\u001b[0m     \u001b[38;5;28;01mfor\u001b[39;00m _ \u001b[38;5;129;01min\u001b[39;00m \u001b[38;5;28mrange\u001b[39m(tries):\n\u001b[1;32m    182\u001b[0m         \u001b[38;5;28;01mtry\u001b[39;00m:\n",
      "File \u001b[0;32m~/anaconda3/envs/isingmodel/lib/python3.10/site-packages/dwave/inspector/server.py:144\u001b[0m, in \u001b[0;36mWSGIAsyncServer.server\u001b[0;34m(self)\u001b[0m\n\u001b[1;32m    141\u001b[0m \u001b[38;5;28mself\u001b[39m\u001b[38;5;241m.\u001b[39m_server \u001b[38;5;241m=\u001b[39m \u001b[38;5;28mgetattr\u001b[39m(\u001b[38;5;28mself\u001b[39m, \u001b[38;5;124m'\u001b[39m\u001b[38;5;124m_server\u001b[39m\u001b[38;5;124m'\u001b[39m, \u001b[38;5;28;01mNone\u001b[39;00m)\n\u001b[1;32m    143\u001b[0m \u001b[38;5;28;01mif\u001b[39;00m \u001b[38;5;28mself\u001b[39m\u001b[38;5;241m.\u001b[39m_server \u001b[38;5;129;01mis\u001b[39;00m \u001b[38;5;28;01mNone\u001b[39;00m:\n\u001b[0;32m--> 144\u001b[0m     \u001b[38;5;28mself\u001b[39m\u001b[38;5;241m.\u001b[39m_server \u001b[38;5;241m=\u001b[39m \u001b[38;5;28;43mself\u001b[39;49m\u001b[38;5;241;43m.\u001b[39;49m\u001b[43m_make_server\u001b[49m\u001b[43m(\u001b[49m\u001b[43m)\u001b[49m\n\u001b[1;32m    146\u001b[0m \u001b[38;5;28;01mreturn\u001b[39;00m \u001b[38;5;28mself\u001b[39m\u001b[38;5;241m.\u001b[39m_server\n",
      "File \u001b[0;32m~/anaconda3/envs/isingmodel/lib/python3.10/site-packages/dwave/inspector/server.py:132\u001b[0m, in \u001b[0;36mWSGIAsyncServer._make_server\u001b[0;34m(self)\u001b[0m\n\u001b[1;32m    129\u001b[0m \u001b[38;5;28mself\u001b[39m\u001b[38;5;241m.\u001b[39mapp\u001b[38;5;241m.\u001b[39mwebappdata \u001b[38;5;241m=\u001b[39m webappdata\n\u001b[1;32m    131\u001b[0m \u001b[38;5;66;03m# create http server, and bind it to first available port >= base_port\u001b[39;00m\n\u001b[0;32m--> 132\u001b[0m \u001b[38;5;28;01mreturn\u001b[39;00m \u001b[38;5;28;43mself\u001b[39;49m\u001b[38;5;241;43m.\u001b[39;49m\u001b[43m_safe_make_server\u001b[49m\u001b[43m(\u001b[49m\u001b[38;5;28;43mself\u001b[39;49m\u001b[38;5;241;43m.\u001b[39;49m\u001b[43mhost\u001b[49m\u001b[43m,\u001b[49m\u001b[43m \u001b[49m\u001b[38;5;28;43mself\u001b[39;49m\u001b[38;5;241;43m.\u001b[39;49m\u001b[43mbase_port\u001b[49m\u001b[43m,\u001b[49m\u001b[43m \u001b[49m\u001b[38;5;28;43mself\u001b[39;49m\u001b[38;5;241;43m.\u001b[39;49m\u001b[43mapp\u001b[49m\u001b[43m)\u001b[49m\n",
      "File \u001b[0;32m~/anaconda3/envs/isingmodel/lib/python3.10/site-packages/dwave/inspector/server.py:108\u001b[0m, in \u001b[0;36mWSGIAsyncServer._safe_make_server\u001b[0;34m(self, host, base_port, app, tries)\u001b[0m\n\u001b[1;32m    106\u001b[0m \u001b[38;5;28;01mfor\u001b[39;00m _, port \u001b[38;5;129;01min\u001b[39;00m \u001b[38;5;28mzip\u001b[39m(\u001b[38;5;28mrange\u001b[39m(tries), ports(start\u001b[38;5;241m=\u001b[39mbase_port)):\n\u001b[1;32m    107\u001b[0m     \u001b[38;5;28;01mtry\u001b[39;00m:\n\u001b[0;32m--> 108\u001b[0m         \u001b[38;5;28;01mreturn\u001b[39;00m \u001b[43mmake_server\u001b[49m\u001b[43m(\u001b[49m\u001b[43mhost\u001b[49m\u001b[43m,\u001b[49m\u001b[43m \u001b[49m\u001b[43mport\u001b[49m\u001b[43m,\u001b[49m\u001b[43m \u001b[49m\u001b[43mapp\u001b[49m\u001b[43m,\u001b[49m\n\u001b[1;32m    109\u001b[0m \u001b[43m                           \u001b[49m\u001b[43mserver_class\u001b[49m\u001b[38;5;241;43m=\u001b[39;49m\u001b[43mLoggingWSGIServer\u001b[49m\u001b[43m,\u001b[49m\n\u001b[1;32m    110\u001b[0m \u001b[43m                           \u001b[49m\u001b[43mhandler_class\u001b[49m\u001b[38;5;241;43m=\u001b[39;49m\u001b[43mLoggingWSGIRequestHandler\u001b[49m\u001b[43m)\u001b[49m\n\u001b[1;32m    111\u001b[0m     \u001b[38;5;28;01mexcept\u001b[39;00m \u001b[38;5;167;01mOSError\u001b[39;00m \u001b[38;5;28;01mas\u001b[39;00m exc:\n\u001b[1;32m    112\u001b[0m         \u001b[38;5;66;03m# handle only \"[Errno 98] Address already in use\"\u001b[39;00m\n\u001b[1;32m    113\u001b[0m         \u001b[38;5;28;01mif\u001b[39;00m exc\u001b[38;5;241m.\u001b[39merrno \u001b[38;5;241m!=\u001b[39m \u001b[38;5;241m98\u001b[39m:\n",
      "File \u001b[0;32m~/anaconda3/envs/isingmodel/lib/python3.10/wsgiref/simple_server.py:154\u001b[0m, in \u001b[0;36mmake_server\u001b[0;34m(host, port, app, server_class, handler_class)\u001b[0m\n\u001b[1;32m    150\u001b[0m \u001b[38;5;28;01mdef\u001b[39;00m \u001b[38;5;21mmake_server\u001b[39m(\n\u001b[1;32m    151\u001b[0m     host, port, app, server_class\u001b[38;5;241m=\u001b[39mWSGIServer, handler_class\u001b[38;5;241m=\u001b[39mWSGIRequestHandler\n\u001b[1;32m    152\u001b[0m ):\n\u001b[1;32m    153\u001b[0m \u001b[38;5;250m    \u001b[39m\u001b[38;5;124;03m\"\"\"Create a new WSGI server listening on `host` and `port` for `app`\"\"\"\u001b[39;00m\n\u001b[0;32m--> 154\u001b[0m     server \u001b[38;5;241m=\u001b[39m \u001b[43mserver_class\u001b[49m\u001b[43m(\u001b[49m\u001b[43m(\u001b[49m\u001b[43mhost\u001b[49m\u001b[43m,\u001b[49m\u001b[43m \u001b[49m\u001b[43mport\u001b[49m\u001b[43m)\u001b[49m\u001b[43m,\u001b[49m\u001b[43m \u001b[49m\u001b[43mhandler_class\u001b[49m\u001b[43m)\u001b[49m\n\u001b[1;32m    155\u001b[0m     server\u001b[38;5;241m.\u001b[39mset_app(app)\n\u001b[1;32m    156\u001b[0m     \u001b[38;5;28;01mreturn\u001b[39;00m server\n",
      "File \u001b[0;32m~/anaconda3/envs/isingmodel/lib/python3.10/socketserver.py:452\u001b[0m, in \u001b[0;36mTCPServer.__init__\u001b[0;34m(self, server_address, RequestHandlerClass, bind_and_activate)\u001b[0m\n\u001b[1;32m    450\u001b[0m \u001b[38;5;28;01mif\u001b[39;00m bind_and_activate:\n\u001b[1;32m    451\u001b[0m     \u001b[38;5;28;01mtry\u001b[39;00m:\n\u001b[0;32m--> 452\u001b[0m         \u001b[38;5;28;43mself\u001b[39;49m\u001b[38;5;241;43m.\u001b[39;49m\u001b[43mserver_bind\u001b[49m\u001b[43m(\u001b[49m\u001b[43m)\u001b[49m\n\u001b[1;32m    453\u001b[0m         \u001b[38;5;28mself\u001b[39m\u001b[38;5;241m.\u001b[39mserver_activate()\n\u001b[1;32m    454\u001b[0m     \u001b[38;5;28;01mexcept\u001b[39;00m:\n",
      "File \u001b[0;32m~/anaconda3/envs/isingmodel/lib/python3.10/wsgiref/simple_server.py:50\u001b[0m, in \u001b[0;36mWSGIServer.server_bind\u001b[0;34m(self)\u001b[0m\n\u001b[1;32m     48\u001b[0m \u001b[38;5;28;01mdef\u001b[39;00m \u001b[38;5;21mserver_bind\u001b[39m(\u001b[38;5;28mself\u001b[39m):\n\u001b[1;32m     49\u001b[0m \u001b[38;5;250m    \u001b[39m\u001b[38;5;124;03m\"\"\"Override server_bind to store the server name.\"\"\"\u001b[39;00m\n\u001b[0;32m---> 50\u001b[0m     \u001b[43mHTTPServer\u001b[49m\u001b[38;5;241;43m.\u001b[39;49m\u001b[43mserver_bind\u001b[49m\u001b[43m(\u001b[49m\u001b[38;5;28;43mself\u001b[39;49m\u001b[43m)\u001b[49m\n\u001b[1;32m     51\u001b[0m     \u001b[38;5;28mself\u001b[39m\u001b[38;5;241m.\u001b[39msetup_environ()\n",
      "File \u001b[0;32m~/anaconda3/envs/isingmodel/lib/python3.10/http/server.py:137\u001b[0m, in \u001b[0;36mHTTPServer.server_bind\u001b[0;34m(self)\u001b[0m\n\u001b[1;32m    135\u001b[0m \u001b[38;5;28;01mdef\u001b[39;00m \u001b[38;5;21mserver_bind\u001b[39m(\u001b[38;5;28mself\u001b[39m):\n\u001b[1;32m    136\u001b[0m \u001b[38;5;250m    \u001b[39m\u001b[38;5;124;03m\"\"\"Override server_bind to store the server name.\"\"\"\u001b[39;00m\n\u001b[0;32m--> 137\u001b[0m     \u001b[43msocketserver\u001b[49m\u001b[38;5;241;43m.\u001b[39;49m\u001b[43mTCPServer\u001b[49m\u001b[38;5;241;43m.\u001b[39;49m\u001b[43mserver_bind\u001b[49m\u001b[43m(\u001b[49m\u001b[38;5;28;43mself\u001b[39;49m\u001b[43m)\u001b[49m\n\u001b[1;32m    138\u001b[0m     host, port \u001b[38;5;241m=\u001b[39m \u001b[38;5;28mself\u001b[39m\u001b[38;5;241m.\u001b[39mserver_address[:\u001b[38;5;241m2\u001b[39m]\n\u001b[1;32m    139\u001b[0m     \u001b[38;5;28mself\u001b[39m\u001b[38;5;241m.\u001b[39mserver_name \u001b[38;5;241m=\u001b[39m socket\u001b[38;5;241m.\u001b[39mgetfqdn(host)\n",
      "File \u001b[0;32m~/anaconda3/envs/isingmodel/lib/python3.10/socketserver.py:466\u001b[0m, in \u001b[0;36mTCPServer.server_bind\u001b[0;34m(self)\u001b[0m\n\u001b[1;32m    464\u001b[0m \u001b[38;5;28;01mif\u001b[39;00m \u001b[38;5;28mself\u001b[39m\u001b[38;5;241m.\u001b[39mallow_reuse_address:\n\u001b[1;32m    465\u001b[0m     \u001b[38;5;28mself\u001b[39m\u001b[38;5;241m.\u001b[39msocket\u001b[38;5;241m.\u001b[39msetsockopt(socket\u001b[38;5;241m.\u001b[39mSOL_SOCKET, socket\u001b[38;5;241m.\u001b[39mSO_REUSEADDR, \u001b[38;5;241m1\u001b[39m)\n\u001b[0;32m--> 466\u001b[0m \u001b[38;5;28;43mself\u001b[39;49m\u001b[38;5;241;43m.\u001b[39;49m\u001b[43msocket\u001b[49m\u001b[38;5;241;43m.\u001b[39;49m\u001b[43mbind\u001b[49m\u001b[43m(\u001b[49m\u001b[38;5;28;43mself\u001b[39;49m\u001b[38;5;241;43m.\u001b[39;49m\u001b[43mserver_address\u001b[49m\u001b[43m)\u001b[49m\n\u001b[1;32m    467\u001b[0m \u001b[38;5;28mself\u001b[39m\u001b[38;5;241m.\u001b[39mserver_address \u001b[38;5;241m=\u001b[39m \u001b[38;5;28mself\u001b[39m\u001b[38;5;241m.\u001b[39msocket\u001b[38;5;241m.\u001b[39mgetsockname()\n",
      "\u001b[0;31mOSError\u001b[0m: [Errno 48] Address already in use"
     ]
    }
   ],
   "source": [
    "from dwave.system import DWaveSampler, EmbeddingComposite\n",
    "import dwave.inspector\n",
    "import os\n",
    "# Set the D-Wave API token\n",
    "\n",
    "# Define the Ising model parameters for full entanglement\n",
    "h = {0: 1, 1: 1, 2: 1, 3: 1}  # external magnetic fields\n",
    "J = {\n",
    "    (0, 1): -1, (0, 2): -1, (0, 3): -1,  # coupler biases between qubit 0 and others\n",
    "    (1, 2): 1, (1, 3): 1,            # coupler biases between qubit 1 and others (2, 3)\n",
    "    (2, 3): 1                        # coupler bias between qubit 2 and 3\n",
    "}  # Fully entangled model with all qubits interacting\n",
    "\n",
    "# Get a sampler that can solve Ising models\n",
    "\n",
    "sampler = EmbeddingComposite(DWaveSampler(token='DEV-f74a9e03362957010ecbf6a87a746477f7c6a61a'))\n",
    "\n",
    "# Sample the Ising model\n",
    "sampleset = sampler.sample_ising(h, J, num_reads=100)\n",
    "\n",
    "# Use the D-Wave Inspector to visualize the problem and the solution\n",
    "dwave.inspector.show(sampleset)\n",
    "\n",
    "# Find and print the ground state energy\n",
    "# The lowest energy sample is considered the ground state\n",
    "ground_state_energy = sampleset.first.energy\n",
    "print(\"Ground State Energy:\", ground_state_energy)\n",
    "\n",
    "# Optionally, print the sample corresponding to the ground state\n",
    "ground_state_sample = sampleset.first.sample\n",
    "print(\"Ground State Sample:\", ground_state_sample)\n"
   ]
  },
  {
   "cell_type": "code",
   "execution_count": null,
   "id": "2d5e02f0-f039-47b7-8813-9c0b61a5c2aa",
   "metadata": {},
   "outputs": [],
   "source": []
  }
 ],
 "metadata": {
  "kernelspec": {
   "display_name": "Python 3 (ipykernel)",
   "language": "python",
   "name": "python3"
  },
  "language_info": {
   "codemirror_mode": {
    "name": "ipython",
    "version": 3
   },
   "file_extension": ".py",
   "mimetype": "text/x-python",
   "name": "python",
   "nbconvert_exporter": "python",
   "pygments_lexer": "ipython3",
   "version": "3.10.13"
  }
 },
 "nbformat": 4,
 "nbformat_minor": 5
}
