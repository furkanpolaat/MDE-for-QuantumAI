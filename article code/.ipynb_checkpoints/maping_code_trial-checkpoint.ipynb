{
 "cells": [
  {
   "cell_type": "code",
   "execution_count": null,
   "id": "4d2befae-1b90-42d3-9f69-3fed3a176a63",
   "metadata": {},
   "outputs": [
    {
     "name": "stdout",
     "output_type": "stream",
     "text": [
      "\u001b[33mWARNING: Skipping qiskit-chemistry as it is not installed.\u001b[0m\u001b[33m\n",
      "\u001b[0m\u001b[33mWARNING: Skipping qiskit-aqua as it is not installed.\u001b[0m\u001b[33m\n",
      "\u001b[0m\u001b[33mWARNING: Skipping qiskit-terra as it is not installed.\u001b[0m\u001b[33m\n",
      "\u001b[0mFound existing installation: qiskit-aer 0.13.3\n",
      "Uninstalling qiskit-aer-0.13.3:\n",
      "  Would remove:\n",
      "    /Users/furkanpolat/anaconda3/lib/python3.10/site-packages/qiskit_aer-0.13.3.dist-info/*\n",
      "    /Users/furkanpolat/anaconda3/lib/python3.10/site-packages/qiskit_aer/*\n",
      "Proceed (Y/n)? "
     ]
    }
   ],
   "source": [
    "!pip uninstall qiskit-chemistry\n",
    "!pip uninstall qiskit-aqua\n",
    "!pip uninstall qiskit-terra\n",
    "!pip uninstall qiskit-aer\n",
    "!pip uninstall qiskit\n",
    "!pip install qiskit # (also installs aer and terra)\n",
    "!pip install qiskit-aqua\n",
    "!pip install qiskit-chemistry"
   ]
  },
  {
   "cell_type": "code",
   "execution_count": 3,
   "id": "7e90c705-2558-43ce-9820-9c5d83d4794b",
   "metadata": {},
   "outputs": [
    {
     "ename": "ImportError",
     "evalue": "cannot import name 'Aer' from 'qiskit' (/Users/furkanpolat/anaconda3/envs/isingmodel/lib/python3.10/site-packages/qiskit/__init__.py)",
     "output_type": "error",
     "traceback": [
      "\u001b[0;31m---------------------------------------------------------------------------\u001b[0m",
      "\u001b[0;31mImportError\u001b[0m                               Traceback (most recent call last)",
      "Cell \u001b[0;32mIn[3], line 2\u001b[0m\n\u001b[1;32m      1\u001b[0m \u001b[38;5;28;01mimport\u001b[39;00m \u001b[38;5;21;01mre\u001b[39;00m\n\u001b[0;32m----> 2\u001b[0m \u001b[38;5;28;01mfrom\u001b[39;00m \u001b[38;5;21;01mqiskit\u001b[39;00m \u001b[38;5;28;01mimport\u001b[39;00m Aer\n\u001b[1;32m      3\u001b[0m \u001b[38;5;28;01mfrom\u001b[39;00m \u001b[38;5;21;01mqiskit\u001b[39;00m\u001b[38;5;21;01m.\u001b[39;00m\u001b[38;5;21;01mopflow\u001b[39;00m \u001b[38;5;28;01mimport\u001b[39;00m I, Z\n\u001b[1;32m      4\u001b[0m \u001b[38;5;28;01mfrom\u001b[39;00m \u001b[38;5;21;01mqiskit\u001b[39;00m\u001b[38;5;21;01m.\u001b[39;00m\u001b[38;5;21;01mcircuit\u001b[39;00m\u001b[38;5;21;01m.\u001b[39;00m\u001b[38;5;21;01mlibrary\u001b[39;00m \u001b[38;5;28;01mimport\u001b[39;00m EfficientSU2\n",
      "\u001b[0;31mImportError\u001b[0m: cannot import name 'Aer' from 'qiskit' (/Users/furkanpolat/anaconda3/envs/isingmodel/lib/python3.10/site-packages/qiskit/__init__.py)"
     ]
    }
   ],
   "source": [
    "import re\n",
    "from qiskit import Aer\n",
    "from qiskit.opflow import I, Z\n",
    "from qiskit.circuit.library import EfficientSU2\n",
    "from qiskit.algorithms.optimizers import SPSA\n",
    "from qiskit.algorithms import VQE\n",
    "from qiskit.utils import QuantumInstance\n"
   ]
  },
  {
   "cell_type": "code",
   "execution_count": null,
   "id": "57199f89-353e-4729-a8bd-c9a449397464",
   "metadata": {},
   "outputs": [],
   "source": [
    "\n",
    "# Function to parse the h and J from the given D-Wave code snippet\n",
    "def parse_dwave_settings(code):\n",
    "    h = eval(re.findall(r\"h = ({.*?})  # external magnetic fields\", code)[0])\n",
    "    J = eval(re.findall(r\"J = ({.*?})  # coupler biases between qubits\", code)[0])\n",
    "    return h, J"
   ]
  },
  {
   "cell_type": "code",
   "execution_count": null,
   "id": "ec65414d-66e0-4953-8f03-21bbdd74678e",
   "metadata": {},
   "outputs": [],
   "source": [
    "\n",
    "# Function to determine entanglement type based on J\n",
    "def determine_entanglement_type(J):\n",
    "    all_qubits = sorted(set([k for sub in J.keys() for k in sub]))\n",
    "    num_qubits = len(all_qubits)\n",
    "    graph = {i: set() for i in all_qubits}\n",
    "    for (i, j) in J:\n",
    "        graph[i].add(j)\n",
    "        graph[j].add(i)\n",
    "    full_entangled = all(len(connections) == num_qubits - 1 for connections in graph.values())\n",
    "    if full_entangled:\n",
    "        return 'full'\n",
    "    if len(J) == num_qubits and all(all_qubits[i] in graph[all_qubits[(i + 1) % num_qubits]] for i in range(num_qubits)):\n",
    "        return 'circular'\n",
    "    linear_check = all(all_qubits[i] in graph[all_qubits[i + 1]] for i in range(num_qubits - 1))\n",
    "    if linear_check and len(J) == num_qubits - 1:\n",
    "        return 'linear'\n",
    "    return 'mixed'\n"
   ]
  },
  {
   "cell_type": "code",
   "execution_count": null,
   "id": "22d28666-6623-46e9-aaa0-ad9fd1f96428",
   "metadata": {},
   "outputs": [],
   "source": [
    "\n",
    "\n",
    "# Example D-Wave code\n",
    "dwave_code = \"\"\"\n",
    "# Define the Ising model parameters\n",
    "h = {0: 1, 1: 1, 2: 1, 3: 1}\n",
    "J = {(0, 1): 1, (1, 2): 1, (2, 3): 1, (0, 3): 1}\n",
    "\"\"\"\n",
    "\n",
    "h, J = parse_dwave_settings(dwave_code)\n",
    "entanglement_type = determine_entanglement_type(J)"
   ]
  },
  {
   "cell_type": "code",
   "execution_count": null,
   "id": "74d4ccb6-98d6-4f3c-83ac-11ca9270230c",
   "metadata": {},
   "outputs": [],
   "source": [
    "\n",
    "\n",
    "# Construct the Hamiltonian for the Ising model\n",
    "paulis = [(Z(i) * Z(j)) for i, j in J]\n",
    "field = [h[i] * Z(i) for i in h]\n",
    "hamiltonian = sum(paulis + field, start=0 * I(0))\n",
    "\n",
    "# Setup the quantum instance (simulator)\n",
    "backend = Aer.get_backend('aer_simulator')\n",
    "quantum_instance = QuantumInstance(backend)\n",
    "\n",
    "# Define the ansatz with determined entanglement\n",
    "ansatz = EfficientSU2(num_qubits=len(h), entanglement=entanglement_type, reps=1)\n",
    "\n",
    "# Define the optimizer\n",
    "optimizer = SPSA(maxiter=300)\n",
    "\n",
    "# Setup and run VQE\n",
    "vqe = VQE(ansatz, optimizer, quantum_instance=quantum_instance)\n",
    "result = vqe.compute_minimum_eigenvalue(operator=hamiltonian)\n",
    "\n",
    "# Output results\n",
    "print(f\"Entanglement Type: {entanglement_type}\")\n",
    "print(\"Ground State Energy (VQE):\", result.eigenvalue.real)\n"
   ]
  }
 ],
 "metadata": {
  "kernelspec": {
   "display_name": "Python 3 (ipykernel)",
   "language": "python",
   "name": "python3"
  },
  "language_info": {
   "codemirror_mode": {
    "name": "ipython",
    "version": 3
   },
   "file_extension": ".py",
   "mimetype": "text/x-python",
   "name": "python",
   "nbconvert_exporter": "python",
   "pygments_lexer": "ipython3",
   "version": "3.10.13"
  }
 },
 "nbformat": 4,
 "nbformat_minor": 5
}
